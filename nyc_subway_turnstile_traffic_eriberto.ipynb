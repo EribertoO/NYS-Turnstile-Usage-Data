{
  "nbformat": 4,
  "nbformat_minor": 0,
  "metadata": {
    "kernelspec": {
      "name": "python3",
      "display_name": "Python 3",
      "language": "python"
    },
    "language_info": {
      "name": "python",
      "version": "3.6.6",
      "mimetype": "text/x-python",
      "codemirror_mode": {
        "name": "ipython",
        "version": 3
      },
      "pygments_lexer": "ipython3",
      "nbconvert_exporter": "python",
      "file_extension": ".py"
    },
    "colab": {
      "name": "nyc-subway-turnstile-traffic-eriberto.ipynb",
      "provenance": [],
      "collapsed_sections": [],
      "include_colab_link": true
    }
  },
  "cells": [
    {
      "cell_type": "markdown",
      "metadata": {
        "id": "view-in-github",
        "colab_type": "text"
      },
      "source": [
        "<a href=\"https://colab.research.google.com/github/EribertoO/NYS-Turnstile-Usage-Data/blob/main/nyc_subway_turnstile_traffic_eriberto.ipynb\" target=\"_parent\"><img src=\"https://colab.research.google.com/assets/colab-badge.svg\" alt=\"Open In Colab\"/></a>"
      ]
    },
    {
      "cell_type": "markdown",
      "metadata": {
        "id": "dLz-V99kCfhU"
      },
      "source": [
        "# Setup of employed packages\n"
      ]
    },
    {
      "cell_type": "code",
      "metadata": {
        "_uuid": "273b02a8-9693-4c35-80d4-05573401e101",
        "_cell_guid": "f171e6ec-0900-4c09-a5ae-c1e653c1053c",
        "trusted": true,
        "_kg_hide-input": true,
        "_kg_hide-output": true,
        "id": "6N1F4RSbyQvt"
      },
      "source": [
        "# Import the libraries we need\n",
        "# Set up\n",
        "import numpy as np # linear algebra\n",
        "import pandas as pd # data processing, CSV file I/O (e.g. pd.read_csv)\n",
        "\n",
        "from datetime import datetime, date, timedelta\n",
        "\n",
        "# import packages\n",
        "import pandas as pd\n",
        "import numpy as np\n",
        "import keras\n",
        "import matplotlib.pyplot as plt\n",
        "plt.style.use(\"ggplot\")\n",
        "from sklearn.preprocessing import MinMaxScaler\n",
        "from pandas.plotting import register_matplotlib_converters\n",
        "register_matplotlib_converters()\n",
        "from keras.preprocessing.sequence import TimeseriesGenerator\n",
        "from keras.models import Sequential\n",
        "from keras.layers import Dense\n",
        "from keras.layers import LSTM\n",
        "\n",
        "import os\n",
        "\n",
        "# Any results you write to the current directory are saved as output."
      ],
      "execution_count": 35,
      "outputs": []
    },
    {
      "cell_type": "markdown",
      "metadata": {
        "id": "A0-lK9uCDl99"
      },
      "source": [
        "## Getting the data from google drive"
      ]
    },
    {
      "cell_type": "code",
      "metadata": {
        "colab": {
          "base_uri": "https://localhost:8080/"
        },
        "id": "sSoNH4sV28Pf",
        "outputId": "1b910dd8-4f58-4f52-cdcb-6b76ae4f4a2c"
      },
      "source": [
        "# My personal link to the dados test.\n",
        "!gdown --id 1u-yOsb2leD4ToOwdqCXGQwplU4fSD18w"
      ],
      "execution_count": 36,
      "outputs": [
        {
          "output_type": "stream",
          "text": [
            "Downloading...\n",
            "From: https://drive.google.com/uc?id=1u-yOsb2leD4ToOwdqCXGQwplU4fSD18w\n",
            "To: /content/dados_desafio.zip\n",
            "139MB [00:00, 156MB/s]Exception KeyboardInterrupt: KeyboardInterrupt() in <generator object read_chunked at 0x7f505cc85370> ignored\n",
            "Traceback (most recent call last):\n",
            "  File \"/usr/local/bin/gdown\", line 8, in <module>\n",
            "    sys.exit(main())\n",
            "  File \"/usr/local/lib/python2.7/dist-packages/gdown/cli.py\", line 61, in main\n",
            "    quiet=args.quiet,\n",
            "  File \"/usr/local/lib/python2.7/dist-packages/gdown/download.py\", line 102, in download\n",
            "    f.write(chunk)\n",
            "KeyboardInterrupt\n",
            "156MB [00:00, 165MB/s]\n"
          ],
          "name": "stdout"
        }
      ]
    },
    {
      "cell_type": "code",
      "metadata": {
        "colab": {
          "base_uri": "https://localhost:8080/"
        },
        "id": "z63SluZ-4AZ6",
        "outputId": "fa1d4921-e677-487d-e143-0c94bed90d66"
      },
      "source": [
        "!unzip /content/dados_desafio.zip"
      ],
      "execution_count": 4,
      "outputs": [
        {
          "output_type": "stream",
          "text": [
            "Archive:  /content/dados_desafio.zip\n",
            " extracting: 2010.csv.gz             \n",
            " extracting: 2011.csv.gz             \n",
            " extracting: 2012.csv.gz             \n",
            " extracting: 2013.csv.gz             \n",
            " extracting: 2014.csv.gz             \n",
            " extracting: 2015.csv.gz             \n",
            " extracting: 2016.csv.gz             \n",
            " extracting: 2017.csv.gz             \n"
          ],
          "name": "stdout"
        }
      ]
    },
    {
      "cell_type": "code",
      "metadata": {
        "id": "KD5DuoQC0pVF"
      },
      "source": [
        "# Extrating data \n",
        "import os\n",
        "import gzip\n",
        "import shutil\n",
        "search_path = os.getcwd()\n",
        "file_type = \".gz\"\n",
        "\n",
        "for fname in os.listdir(path=search_path):\n",
        "    if fname.endswith(file_type):\n",
        "        with gzip.open(fname,'rb') as f_in:\n",
        "            with open(fname+'.csv','wb') as f_out:\n",
        "                shutil.copyfileobj(f_in,f_out)"
      ],
      "execution_count": 5,
      "outputs": []
    },
    {
      "cell_type": "markdown",
      "metadata": {
        "id": "pVPGYaH9ELYy"
      },
      "source": [
        "# Global Exploratory data Analysis (EDA)"
      ]
    },
    {
      "cell_type": "code",
      "metadata": {
        "_uuid": "9eac63c0-9a0d-4a5e-960d-4baef3a572cb",
        "_cell_guid": "1aeaeced-5962-44d0-ac65-426cdf4a52bf",
        "trusted": true,
        "_kg_hide-input": true,
        "_kg_hide-output": true,
        "id": "bp-Bb3v6yQv2"
      },
      "source": [
        "# filename: data set to load \n",
        "# \n",
        "data_path = \"2017.csv.gz.csv\"\n",
        "\n",
        "data = pd.read_csv(data_path, parse_dates=['time'])"
      ],
      "execution_count": 37,
      "outputs": []
    },
    {
      "cell_type": "code",
      "metadata": {
        "_uuid": "2293179b-ae31-476e-af9e-26d61f95284c",
        "_cell_guid": "85c4e09a-ddd3-49cc-bd13-bdcf8fd9aeb8",
        "trusted": true,
        "_kg_hide-input": true,
        "_kg_hide-output": true,
        "id": "x0ARtqN5yQv3"
      },
      "source": [
        "def fix_col_names(df):\n",
        "    #Fix columns with trailing spaces\n",
        "    df.columns = df.columns.str.strip()\n",
        "    #Fix Columns with spaces in column name.\n",
        "    df.columns = [col.lower().replace(' ', '_') for col in df.columns]"
      ],
      "execution_count": 38,
      "outputs": []
    },
    {
      "cell_type": "code",
      "metadata": {
        "_uuid": "4639fbff-a663-4084-9a0c-f5963848c1fa",
        "_cell_guid": "fb73d7a7-c194-45ea-99f5-797c189447c3",
        "trusted": true,
        "_kg_hide-input": true,
        "_kg_hide-output": true,
        "id": "HqTEpaibyQv4",
        "colab": {
          "base_uri": "https://localhost:8080/",
          "height": 204
        },
        "outputId": "51806ab6-eb04-4b52-9507-29897c0a6688"
      },
      "source": [
        "fix_col_names(data)\n",
        "data.head()"
      ],
      "execution_count": 39,
      "outputs": [
        {
          "output_type": "execute_result",
          "data": {
            "text/html": [
              "<div>\n",
              "<style scoped>\n",
              "    .dataframe tbody tr th:only-of-type {\n",
              "        vertical-align: middle;\n",
              "    }\n",
              "\n",
              "    .dataframe tbody tr th {\n",
              "        vertical-align: top;\n",
              "    }\n",
              "\n",
              "    .dataframe thead th {\n",
              "        text-align: right;\n",
              "    }\n",
              "</style>\n",
              "<table border=\"1\" class=\"dataframe\">\n",
              "  <thead>\n",
              "    <tr style=\"text-align: right;\">\n",
              "      <th></th>\n",
              "      <th>time</th>\n",
              "      <th>ca</th>\n",
              "      <th>unit</th>\n",
              "      <th>scp</th>\n",
              "      <th>station</th>\n",
              "      <th>linename</th>\n",
              "      <th>division</th>\n",
              "      <th>desc</th>\n",
              "      <th>entries</th>\n",
              "      <th>exits</th>\n",
              "    </tr>\n",
              "  </thead>\n",
              "  <tbody>\n",
              "    <tr>\n",
              "      <th>0</th>\n",
              "      <td>2011-01-01</td>\n",
              "      <td>A002</td>\n",
              "      <td>R051</td>\n",
              "      <td>02-00-00</td>\n",
              "      <td>LEXINGTON AVE</td>\n",
              "      <td>456NQR</td>\n",
              "      <td>BMT</td>\n",
              "      <td>REGULAR</td>\n",
              "      <td>2994127.0</td>\n",
              "      <td>1033610.0</td>\n",
              "    </tr>\n",
              "    <tr>\n",
              "      <th>1</th>\n",
              "      <td>2011-01-01</td>\n",
              "      <td>A002</td>\n",
              "      <td>R051</td>\n",
              "      <td>02-00-01</td>\n",
              "      <td>LEXINGTON AVE</td>\n",
              "      <td>456NQR</td>\n",
              "      <td>BMT</td>\n",
              "      <td>REGULAR</td>\n",
              "      <td>2959715.0</td>\n",
              "      <td>627670.0</td>\n",
              "    </tr>\n",
              "    <tr>\n",
              "      <th>2</th>\n",
              "      <td>2011-01-01</td>\n",
              "      <td>A002</td>\n",
              "      <td>R051</td>\n",
              "      <td>02-03-00</td>\n",
              "      <td>LEXINGTON AVE</td>\n",
              "      <td>456NQR</td>\n",
              "      <td>BMT</td>\n",
              "      <td>REGULAR</td>\n",
              "      <td>1235350.0</td>\n",
              "      <td>4380835.0</td>\n",
              "    </tr>\n",
              "    <tr>\n",
              "      <th>3</th>\n",
              "      <td>2011-01-01</td>\n",
              "      <td>A002</td>\n",
              "      <td>R051</td>\n",
              "      <td>02-03-01</td>\n",
              "      <td>LEXINGTON AVE</td>\n",
              "      <td>456NQR</td>\n",
              "      <td>BMT</td>\n",
              "      <td>REGULAR</td>\n",
              "      <td>2709282.0</td>\n",
              "      <td>4179651.0</td>\n",
              "    </tr>\n",
              "    <tr>\n",
              "      <th>4</th>\n",
              "      <td>2011-01-01</td>\n",
              "      <td>A002</td>\n",
              "      <td>R051</td>\n",
              "      <td>02-03-02</td>\n",
              "      <td>LEXINGTON AVE</td>\n",
              "      <td>456NQR</td>\n",
              "      <td>BMT</td>\n",
              "      <td>REGULAR</td>\n",
              "      <td>2488392.0</td>\n",
              "      <td>3405802.0</td>\n",
              "    </tr>\n",
              "  </tbody>\n",
              "</table>\n",
              "</div>"
            ],
            "text/plain": [
              "        time    ca  unit       scp  ... division     desc    entries      exits\n",
              "0 2011-01-01  A002  R051  02-00-00  ...      BMT  REGULAR  2994127.0  1033610.0\n",
              "1 2011-01-01  A002  R051  02-00-01  ...      BMT  REGULAR  2959715.0   627670.0\n",
              "2 2011-01-01  A002  R051  02-03-00  ...      BMT  REGULAR  1235350.0  4380835.0\n",
              "3 2011-01-01  A002  R051  02-03-01  ...      BMT  REGULAR  2709282.0  4179651.0\n",
              "4 2011-01-01  A002  R051  02-03-02  ...      BMT  REGULAR  2488392.0  3405802.0\n",
              "\n",
              "[5 rows x 10 columns]"
            ]
          },
          "metadata": {
            "tags": []
          },
          "execution_count": 39
        }
      ]
    },
    {
      "cell_type": "code",
      "metadata": {
        "_uuid": "9d6f1030-846b-475d-8550-c81e1f2ab5b0",
        "_cell_guid": "a5f5ed44-3038-45f5-a4e0-d871274dc216",
        "trusted": true,
        "_kg_hide-input": true,
        "_kg_hide-output": true,
        "id": "N5liKr22yQv5",
        "colab": {
          "base_uri": "https://localhost:8080/",
          "height": 669
        },
        "outputId": "bfd216e0-acbf-45f5-ad5d-a0e66749f61b"
      },
      "source": [
        "#narrow columns to only the ones that we're interested in.\n",
        "data = data.filter(['station', 'time', 'entries', 'exits'], axis=1)\n",
        "data.tail(n=20)"
      ],
      "execution_count": 40,
      "outputs": [
        {
          "output_type": "execute_result",
          "data": {
            "text/html": [
              "<div>\n",
              "<style scoped>\n",
              "    .dataframe tbody tr th:only-of-type {\n",
              "        vertical-align: middle;\n",
              "    }\n",
              "\n",
              "    .dataframe tbody tr th {\n",
              "        vertical-align: top;\n",
              "    }\n",
              "\n",
              "    .dataframe thead th {\n",
              "        text-align: right;\n",
              "    }\n",
              "</style>\n",
              "<table border=\"1\" class=\"dataframe\">\n",
              "  <thead>\n",
              "    <tr style=\"text-align: right;\">\n",
              "      <th></th>\n",
              "      <th>station</th>\n",
              "      <th>time</th>\n",
              "      <th>entries</th>\n",
              "      <th>exits</th>\n",
              "    </tr>\n",
              "  </thead>\n",
              "  <tbody>\n",
              "    <tr>\n",
              "      <th>11146395</th>\n",
              "      <td>PATH WTC</td>\n",
              "      <td>2011-12-31 23:51:00</td>\n",
              "      <td>1497409.0</td>\n",
              "      <td>2028170.0</td>\n",
              "    </tr>\n",
              "    <tr>\n",
              "      <th>11146396</th>\n",
              "      <td>NaN</td>\n",
              "      <td>2011-12-31 23:51:35</td>\n",
              "      <td>2138490.0</td>\n",
              "      <td>340185.0</td>\n",
              "    </tr>\n",
              "    <tr>\n",
              "      <th>11146397</th>\n",
              "      <td>NaN</td>\n",
              "      <td>2011-12-31 23:51:44</td>\n",
              "      <td>2138490.0</td>\n",
              "      <td>340185.0</td>\n",
              "    </tr>\n",
              "    <tr>\n",
              "      <th>11146398</th>\n",
              "      <td>NEWARK HW BMEBE</td>\n",
              "      <td>2011-12-31 23:52:35</td>\n",
              "      <td>658724.0</td>\n",
              "      <td>14018.0</td>\n",
              "    </tr>\n",
              "    <tr>\n",
              "      <th>11146399</th>\n",
              "      <td>PATH WTC</td>\n",
              "      <td>2011-12-31 23:52:43</td>\n",
              "      <td>447466.0</td>\n",
              "      <td>618318.0</td>\n",
              "    </tr>\n",
              "    <tr>\n",
              "      <th>11146400</th>\n",
              "      <td>JFK JAMAICA CT1</td>\n",
              "      <td>2011-12-31 23:52:49</td>\n",
              "      <td>11826.0</td>\n",
              "      <td>10165.0</td>\n",
              "    </tr>\n",
              "    <tr>\n",
              "      <th>11146401</th>\n",
              "      <td>TWENTY THIRD ST</td>\n",
              "      <td>2011-12-31 23:53:20</td>\n",
              "      <td>485380.0</td>\n",
              "      <td>4465.0</td>\n",
              "    </tr>\n",
              "    <tr>\n",
              "      <th>11146402</th>\n",
              "      <td>34 ST-PENN STA</td>\n",
              "      <td>2011-12-31 23:54:53</td>\n",
              "      <td>3096657.0</td>\n",
              "      <td>2294174.0</td>\n",
              "    </tr>\n",
              "    <tr>\n",
              "      <th>11146403</th>\n",
              "      <td>CITY / BUS</td>\n",
              "      <td>2011-12-31 23:54:54</td>\n",
              "      <td>408790.0</td>\n",
              "      <td>108354.0</td>\n",
              "    </tr>\n",
              "    <tr>\n",
              "      <th>11146404</th>\n",
              "      <td>HARRISON</td>\n",
              "      <td>2011-12-31 23:56:18</td>\n",
              "      <td>296631.0</td>\n",
              "      <td>27986.0</td>\n",
              "    </tr>\n",
              "    <tr>\n",
              "      <th>11146405</th>\n",
              "      <td>EXCHANGE PLACE</td>\n",
              "      <td>2011-12-31 23:56:50</td>\n",
              "      <td>1515867.0</td>\n",
              "      <td>477719.0</td>\n",
              "    </tr>\n",
              "    <tr>\n",
              "      <th>11146406</th>\n",
              "      <td>NEWARK HM HE</td>\n",
              "      <td>2011-12-31 23:57:00</td>\n",
              "      <td>7132.0</td>\n",
              "      <td>342419.0</td>\n",
              "    </tr>\n",
              "    <tr>\n",
              "      <th>11146407</th>\n",
              "      <td>GROVE STREET</td>\n",
              "      <td>2011-12-31 23:58:19</td>\n",
              "      <td>85678.0</td>\n",
              "      <td>44699.0</td>\n",
              "    </tr>\n",
              "    <tr>\n",
              "      <th>11146408</th>\n",
              "      <td>NEWARK HM HE</td>\n",
              "      <td>2011-12-31 23:58:24</td>\n",
              "      <td>8802.0</td>\n",
              "      <td>294384.0</td>\n",
              "    </tr>\n",
              "    <tr>\n",
              "      <th>11146409</th>\n",
              "      <td>JFK JAMAICA CT1</td>\n",
              "      <td>2011-12-31 23:58:47</td>\n",
              "      <td>11826.0</td>\n",
              "      <td>10173.0</td>\n",
              "    </tr>\n",
              "    <tr>\n",
              "      <th>11146410</th>\n",
              "      <td>GROVE STREET</td>\n",
              "      <td>2011-12-31 23:58:56</td>\n",
              "      <td>793037.0</td>\n",
              "      <td>663401.0</td>\n",
              "    </tr>\n",
              "    <tr>\n",
              "      <th>11146411</th>\n",
              "      <td>JFK JAMAICA CT1</td>\n",
              "      <td>2011-12-31 23:58:57</td>\n",
              "      <td>204401.0</td>\n",
              "      <td>177353.0</td>\n",
              "    </tr>\n",
              "    <tr>\n",
              "      <th>11146412</th>\n",
              "      <td>THIRTY ST</td>\n",
              "      <td>2011-12-31 23:59:21</td>\n",
              "      <td>0.0</td>\n",
              "      <td>994847.0</td>\n",
              "    </tr>\n",
              "    <tr>\n",
              "      <th>11146413</th>\n",
              "      <td>CHAMBERS ST</td>\n",
              "      <td>2011-12-31 23:59:41</td>\n",
              "      <td>2362231.0</td>\n",
              "      <td>498829.0</td>\n",
              "    </tr>\n",
              "    <tr>\n",
              "      <th>11146414</th>\n",
              "      <td>CHAMBERS ST</td>\n",
              "      <td>2011-12-31 23:59:44</td>\n",
              "      <td>2362231.0</td>\n",
              "      <td>498829.0</td>\n",
              "    </tr>\n",
              "  </tbody>\n",
              "</table>\n",
              "</div>"
            ],
            "text/plain": [
              "                  station                time    entries      exits\n",
              "11146395         PATH WTC 2011-12-31 23:51:00  1497409.0  2028170.0\n",
              "11146396              NaN 2011-12-31 23:51:35  2138490.0   340185.0\n",
              "11146397              NaN 2011-12-31 23:51:44  2138490.0   340185.0\n",
              "11146398  NEWARK HW BMEBE 2011-12-31 23:52:35   658724.0    14018.0\n",
              "11146399         PATH WTC 2011-12-31 23:52:43   447466.0   618318.0\n",
              "11146400  JFK JAMAICA CT1 2011-12-31 23:52:49    11826.0    10165.0\n",
              "11146401  TWENTY THIRD ST 2011-12-31 23:53:20   485380.0     4465.0\n",
              "11146402   34 ST-PENN STA 2011-12-31 23:54:53  3096657.0  2294174.0\n",
              "11146403       CITY / BUS 2011-12-31 23:54:54   408790.0   108354.0\n",
              "11146404         HARRISON 2011-12-31 23:56:18   296631.0    27986.0\n",
              "11146405   EXCHANGE PLACE 2011-12-31 23:56:50  1515867.0   477719.0\n",
              "11146406     NEWARK HM HE 2011-12-31 23:57:00     7132.0   342419.0\n",
              "11146407     GROVE STREET 2011-12-31 23:58:19    85678.0    44699.0\n",
              "11146408     NEWARK HM HE 2011-12-31 23:58:24     8802.0   294384.0\n",
              "11146409  JFK JAMAICA CT1 2011-12-31 23:58:47    11826.0    10173.0\n",
              "11146410     GROVE STREET 2011-12-31 23:58:56   793037.0   663401.0\n",
              "11146411  JFK JAMAICA CT1 2011-12-31 23:58:57   204401.0   177353.0\n",
              "11146412        THIRTY ST 2011-12-31 23:59:21        0.0   994847.0\n",
              "11146413      CHAMBERS ST 2011-12-31 23:59:41  2362231.0   498829.0\n",
              "11146414      CHAMBERS ST 2011-12-31 23:59:44  2362231.0   498829.0"
            ]
          },
          "metadata": {
            "tags": []
          },
          "execution_count": 40
        }
      ]
    },
    {
      "cell_type": "code",
      "metadata": {
        "_uuid": "0eca21c0-a407-4dc0-8407-4425d65e2229",
        "_cell_guid": "93acbe78-37ce-4985-8c1b-2af7524e9ec2",
        "trusted": true,
        "_kg_hide-input": true,
        "_kg_hide-output": true,
        "id": "1pLdxttOyQv6"
      },
      "source": [
        "## Setting the dataset into the df variable\n",
        "df = data"
      ],
      "execution_count": 41,
      "outputs": []
    },
    {
      "cell_type": "code",
      "metadata": {
        "_uuid": "cb7a965b-f71d-42d7-9c06-8f12703869f4",
        "_cell_guid": "af71bba5-492d-40c8-9e58-77e884fd51c1",
        "trusted": true,
        "_kg_hide-input": true,
        "_kg_hide-output": true,
        "id": "6qOmCLjXyQv6",
        "colab": {
          "base_uri": "https://localhost:8080/"
        },
        "outputId": "caccdd04-487e-4385-8543-12c3cbe18e74"
      },
      "source": [
        "# number of diffenrent stations\n",
        "len(df.station.unique())"
      ],
      "execution_count": 42,
      "outputs": [
        {
          "output_type": "execute_result",
          "data": {
            "text/plain": [
              "383"
            ]
          },
          "metadata": {
            "tags": []
          },
          "execution_count": 42
        }
      ]
    },
    {
      "cell_type": "code",
      "metadata": {
        "_uuid": "cce505f2-c792-4fef-8f5b-fed4a255fa16",
        "_cell_guid": "e3a724e0-e29b-43d5-814e-d793fbbab7eb",
        "trusted": true,
        "_kg_hide-input": true,
        "_kg_hide-output": true,
        "id": "dMUai_hryQv6",
        "colab": {
          "base_uri": "https://localhost:8080/",
          "height": 235
        },
        "outputId": "c5a9a10f-6844-408b-9f87-d96bb4f31335"
      },
      "source": [
        "# Groupy the data form the multiples \"dates/time\"\n",
        "# thus, getting only one entry for each time entry \n",
        "station_day_sum = (df.groupby(by='station')\n",
        "                   .apply(lambda x: x.resample(rule='1D', on='time')\n",
        "                   .agg({'entries': 'sum', 'exits': 'sum'}))\n",
        "                  )\n",
        "\n",
        "station_day_sum.head()"
      ],
      "execution_count": 43,
      "outputs": [
        {
          "output_type": "execute_result",
          "data": {
            "text/html": [
              "<div>\n",
              "<style scoped>\n",
              "    .dataframe tbody tr th:only-of-type {\n",
              "        vertical-align: middle;\n",
              "    }\n",
              "\n",
              "    .dataframe tbody tr th {\n",
              "        vertical-align: top;\n",
              "    }\n",
              "\n",
              "    .dataframe thead th {\n",
              "        text-align: right;\n",
              "    }\n",
              "</style>\n",
              "<table border=\"1\" class=\"dataframe\">\n",
              "  <thead>\n",
              "    <tr style=\"text-align: right;\">\n",
              "      <th></th>\n",
              "      <th></th>\n",
              "      <th>entries</th>\n",
              "      <th>exits</th>\n",
              "    </tr>\n",
              "    <tr>\n",
              "      <th>station</th>\n",
              "      <th>time</th>\n",
              "      <th></th>\n",
              "      <th></th>\n",
              "    </tr>\n",
              "  </thead>\n",
              "  <tbody>\n",
              "    <tr>\n",
              "      <th rowspan=\"5\" valign=\"top\">1 AVE</th>\n",
              "      <th>2011-01-01</th>\n",
              "      <td>232541330.0</td>\n",
              "      <td>199821272.0</td>\n",
              "    </tr>\n",
              "    <tr>\n",
              "      <th>2011-01-02</th>\n",
              "      <td>232624692.0</td>\n",
              "      <td>199914816.0</td>\n",
              "    </tr>\n",
              "    <tr>\n",
              "      <th>2011-01-03</th>\n",
              "      <td>232704316.0</td>\n",
              "      <td>200009509.0</td>\n",
              "    </tr>\n",
              "    <tr>\n",
              "      <th>2011-01-04</th>\n",
              "      <td>232830124.0</td>\n",
              "      <td>200151208.0</td>\n",
              "    </tr>\n",
              "    <tr>\n",
              "      <th>2011-01-05</th>\n",
              "      <td>256354593.0</td>\n",
              "      <td>214767796.0</td>\n",
              "    </tr>\n",
              "  </tbody>\n",
              "</table>\n",
              "</div>"
            ],
            "text/plain": [
              "                        entries        exits\n",
              "station time                                \n",
              "1 AVE   2011-01-01  232541330.0  199821272.0\n",
              "        2011-01-02  232624692.0  199914816.0\n",
              "        2011-01-03  232704316.0  200009509.0\n",
              "        2011-01-04  232830124.0  200151208.0\n",
              "        2011-01-05  256354593.0  214767796.0"
            ]
          },
          "metadata": {
            "tags": []
          },
          "execution_count": 43
        }
      ]
    },
    {
      "cell_type": "code",
      "metadata": {
        "_uuid": "64b65d04-abf2-4494-93ad-64ee495084a4",
        "_cell_guid": "6037cd1c-dd3b-4ce2-8b93-b513a4cb4fb1",
        "trusted": true,
        "id": "gUbMyiOxyQv7",
        "colab": {
          "base_uri": "https://localhost:8080/",
          "height": 111
        },
        "outputId": "67f2ea85-841e-47cf-cc42-85f24d7cb279"
      },
      "source": [
        "# Evaluate the correlation \n",
        "# Global variables. i.e all sections included\n",
        "station_day_sum.corr()"
      ],
      "execution_count": 44,
      "outputs": [
        {
          "output_type": "execute_result",
          "data": {
            "text/html": [
              "<div>\n",
              "<style scoped>\n",
              "    .dataframe tbody tr th:only-of-type {\n",
              "        vertical-align: middle;\n",
              "    }\n",
              "\n",
              "    .dataframe tbody tr th {\n",
              "        vertical-align: top;\n",
              "    }\n",
              "\n",
              "    .dataframe thead th {\n",
              "        text-align: right;\n",
              "    }\n",
              "</style>\n",
              "<table border=\"1\" class=\"dataframe\">\n",
              "  <thead>\n",
              "    <tr style=\"text-align: right;\">\n",
              "      <th></th>\n",
              "      <th>entries</th>\n",
              "      <th>exits</th>\n",
              "    </tr>\n",
              "  </thead>\n",
              "  <tbody>\n",
              "    <tr>\n",
              "      <th>entries</th>\n",
              "      <td>1.000000</td>\n",
              "      <td>0.952591</td>\n",
              "    </tr>\n",
              "    <tr>\n",
              "      <th>exits</th>\n",
              "      <td>0.952591</td>\n",
              "      <td>1.000000</td>\n",
              "    </tr>\n",
              "  </tbody>\n",
              "</table>\n",
              "</div>"
            ],
            "text/plain": [
              "          entries     exits\n",
              "entries  1.000000  0.952591\n",
              "exits    0.952591  1.000000"
            ]
          },
          "metadata": {
            "tags": []
          },
          "execution_count": 44
        }
      ]
    },
    {
      "cell_type": "code",
      "metadata": {
        "_uuid": "900f3775-53ca-4d79-950e-dbc6e19be11b",
        "_cell_guid": "fca04f07-b337-4b80-b4b0-85c89f061488",
        "trusted": true,
        "_kg_hide-input": true,
        "_kg_hide-output": true,
        "id": "rV-My_MYyQv8",
        "colab": {
          "base_uri": "https://localhost:8080/",
          "height": 235
        },
        "outputId": "bbd92522-56fc-4693-c9d5-443632c8b90f"
      },
      "source": [
        "# Since the correlation was high. More uncorrelated variables should be used to get a parsimony model with a higher predictive power.\n",
        "# Since the correlation is high between entry and exit\n",
        "# a model must contain input variables q are non-collinear\n",
        "#, therefore, new variables were created: flowtota, flowdelta and flowabs\n",
        "# Function to calculate several metrics on the dataset\n",
        "# Now that it's grouped by station, time\n",
        "\n",
        "def calculate_flow_stats(row):\n",
        "    d = row.entries - row.exits\n",
        "    return(row.entries + row.exits, d, abs(d))\n",
        "\n",
        "## row function returns tuple of values that need to be spread out to each new column\n",
        "def apply_flow_stats(df):\n",
        "    (df['flowtotal'], df['flowdelta'],df['flowabs']) = zip(*df.apply(calculate_flow_stats, axis=1))\n",
        "\n",
        "apply_flow_stats(station_day_sum)\n",
        "station_day_sum.head()"
      ],
      "execution_count": 46,
      "outputs": [
        {
          "output_type": "execute_result",
          "data": {
            "text/html": [
              "<div>\n",
              "<style scoped>\n",
              "    .dataframe tbody tr th:only-of-type {\n",
              "        vertical-align: middle;\n",
              "    }\n",
              "\n",
              "    .dataframe tbody tr th {\n",
              "        vertical-align: top;\n",
              "    }\n",
              "\n",
              "    .dataframe thead th {\n",
              "        text-align: right;\n",
              "    }\n",
              "</style>\n",
              "<table border=\"1\" class=\"dataframe\">\n",
              "  <thead>\n",
              "    <tr style=\"text-align: right;\">\n",
              "      <th></th>\n",
              "      <th></th>\n",
              "      <th>entries</th>\n",
              "      <th>exits</th>\n",
              "      <th>flowtotal</th>\n",
              "      <th>flowdelta</th>\n",
              "      <th>flowabs</th>\n",
              "    </tr>\n",
              "    <tr>\n",
              "      <th>station</th>\n",
              "      <th>time</th>\n",
              "      <th></th>\n",
              "      <th></th>\n",
              "      <th></th>\n",
              "      <th></th>\n",
              "      <th></th>\n",
              "    </tr>\n",
              "  </thead>\n",
              "  <tbody>\n",
              "    <tr>\n",
              "      <th rowspan=\"5\" valign=\"top\">1 AVE</th>\n",
              "      <th>2011-01-01</th>\n",
              "      <td>232541330.0</td>\n",
              "      <td>199821272.0</td>\n",
              "      <td>432362602.0</td>\n",
              "      <td>32720058.0</td>\n",
              "      <td>32720058.0</td>\n",
              "    </tr>\n",
              "    <tr>\n",
              "      <th>2011-01-02</th>\n",
              "      <td>232624692.0</td>\n",
              "      <td>199914816.0</td>\n",
              "      <td>432539508.0</td>\n",
              "      <td>32709876.0</td>\n",
              "      <td>32709876.0</td>\n",
              "    </tr>\n",
              "    <tr>\n",
              "      <th>2011-01-03</th>\n",
              "      <td>232704316.0</td>\n",
              "      <td>200009509.0</td>\n",
              "      <td>432713825.0</td>\n",
              "      <td>32694807.0</td>\n",
              "      <td>32694807.0</td>\n",
              "    </tr>\n",
              "    <tr>\n",
              "      <th>2011-01-04</th>\n",
              "      <td>232830124.0</td>\n",
              "      <td>200151208.0</td>\n",
              "      <td>432981332.0</td>\n",
              "      <td>32678916.0</td>\n",
              "      <td>32678916.0</td>\n",
              "    </tr>\n",
              "    <tr>\n",
              "      <th>2011-01-05</th>\n",
              "      <td>256354593.0</td>\n",
              "      <td>214767796.0</td>\n",
              "      <td>471122389.0</td>\n",
              "      <td>41586797.0</td>\n",
              "      <td>41586797.0</td>\n",
              "    </tr>\n",
              "  </tbody>\n",
              "</table>\n",
              "</div>"
            ],
            "text/plain": [
              "                        entries        exits  ...   flowdelta     flowabs\n",
              "station time                                  ...                        \n",
              "1 AVE   2011-01-01  232541330.0  199821272.0  ...  32720058.0  32720058.0\n",
              "        2011-01-02  232624692.0  199914816.0  ...  32709876.0  32709876.0\n",
              "        2011-01-03  232704316.0  200009509.0  ...  32694807.0  32694807.0\n",
              "        2011-01-04  232830124.0  200151208.0  ...  32678916.0  32678916.0\n",
              "        2011-01-05  256354593.0  214767796.0  ...  41586797.0  41586797.0\n",
              "\n",
              "[5 rows x 5 columns]"
            ]
          },
          "metadata": {
            "tags": []
          },
          "execution_count": 46
        }
      ]
    },
    {
      "cell_type": "code",
      "metadata": {
        "trusted": true,
        "id": "ys5oLmkwyQv8",
        "colab": {
          "base_uri": "https://localhost:8080/",
          "height": 293
        },
        "outputId": "40aead44-069e-42fe-a423-7a11c8e53b22"
      },
      "source": [
        "stationList = station_day_sum.groupby('station')['flowtotal'].mean().sort_values(ascending=False)\n",
        "n = 10\n",
        "ax = stationList.plot.bar( rot=0)\n",
        "ticks = ax.xaxis.get_ticklocs()\n",
        "ticklabels = [l.get_text() for l in ax.xaxis.get_ticklabels()]\n",
        "ax.xaxis.set_ticks(ticks[::n])\n",
        "ax.xaxis.set_ticklabels(ticklabels[::n])\n",
        "\n",
        "ax.figure.show()\n"
      ],
      "execution_count": 47,
      "outputs": [
        {
          "output_type": "display_data",
          "data": {
            "image/png": "[encoded data removed]",
            "text/plain": [
              "<Figure size 432x288 with 1 Axes>"
            ]
          },
          "metadata": {
            "tags": []
          }
        }
      ]
    },
    {
      "cell_type": "code",
      "metadata": {
        "_uuid": "d48e1f86-d37c-404c-8584-03621a52cf12",
        "_cell_guid": "9bd89bcd-3be2-46d1-ac41-aa4c5a808f01",
        "trusted": true,
        "id": "w7S_9V9WyQv9",
        "colab": {
          "base_uri": "https://localhost:8080/",
          "height": 145
        },
        "outputId": "a8db8906-f6b2-4c85-fa06-3250a06f2cd1"
      },
      "source": [
        "# Correlation among all stations and all regressor variables\n",
        "\n",
        "corr = station_day_sum.corr()\n",
        "corr.style.background_gradient(cmap='coolwarm').set_precision(4)\n",
        "\n",
        "# Uncomment to obtain data format\n",
        "#station_day_sum.groupby\n",
        "#station_day_sum.index\n",
        "#station_day_sum"
      ],
      "execution_count": 48,
      "outputs": [
        {
          "output_type": "execute_result",
          "data": {
            "text/html": [
              "<style  type=\"text/css\" >\n",
              "#T_cdfdc87a_8b14_11eb_9125_0242ac1c0002row0_col0,#T_cdfdc87a_8b14_11eb_9125_0242ac1c0002row1_col1,#T_cdfdc87a_8b14_11eb_9125_0242ac1c0002row2_col2,#T_cdfdc87a_8b14_11eb_9125_0242ac1c0002row3_col3,#T_cdfdc87a_8b14_11eb_9125_0242ac1c0002row4_col4{\n",
              "            background-color:  #b40426;\n",
              "            color:  #f1f1f1;\n",
              "        }#T_cdfdc87a_8b14_11eb_9125_0242ac1c0002row0_col1{\n",
              "            background-color:  #c32e31;\n",
              "            color:  #f1f1f1;\n",
              "        }#T_cdfdc87a_8b14_11eb_9125_0242ac1c0002row0_col2,#T_cdfdc87a_8b14_11eb_9125_0242ac1c0002row1_col2,#T_cdfdc87a_8b14_11eb_9125_0242ac1c0002row2_col1{\n",
              "            background-color:  #b70d28;\n",
              "            color:  #f1f1f1;\n",
              "        }#T_cdfdc87a_8b14_11eb_9125_0242ac1c0002row0_col3{\n",
              "            background-color:  #8fb1fe;\n",
              "            color:  #000000;\n",
              "        }#T_cdfdc87a_8b14_11eb_9125_0242ac1c0002row0_col4,#T_cdfdc87a_8b14_11eb_9125_0242ac1c0002row4_col0{\n",
              "            background-color:  #e1dad6;\n",
              "            color:  #000000;\n",
              "        }#T_cdfdc87a_8b14_11eb_9125_0242ac1c0002row1_col0{\n",
              "            background-color:  #c73635;\n",
              "            color:  #f1f1f1;\n",
              "        }#T_cdfdc87a_8b14_11eb_9125_0242ac1c0002row1_col3,#T_cdfdc87a_8b14_11eb_9125_0242ac1c0002row3_col0,#T_cdfdc87a_8b14_11eb_9125_0242ac1c0002row3_col1,#T_cdfdc87a_8b14_11eb_9125_0242ac1c0002row3_col2,#T_cdfdc87a_8b14_11eb_9125_0242ac1c0002row3_col4{\n",
              "            background-color:  #3b4cc0;\n",
              "            color:  #f1f1f1;\n",
              "        }#T_cdfdc87a_8b14_11eb_9125_0242ac1c0002row1_col4{\n",
              "            background-color:  #d4dbe6;\n",
              "            color:  #000000;\n",
              "        }#T_cdfdc87a_8b14_11eb_9125_0242ac1c0002row2_col0{\n",
              "            background-color:  #b8122a;\n",
              "            color:  #f1f1f1;\n",
              "        }#T_cdfdc87a_8b14_11eb_9125_0242ac1c0002row2_col3{\n",
              "            background-color:  #6282ea;\n",
              "            color:  #000000;\n",
              "        }#T_cdfdc87a_8b14_11eb_9125_0242ac1c0002row2_col4{\n",
              "            background-color:  #dcdddd;\n",
              "            color:  #000000;\n",
              "        }#T_cdfdc87a_8b14_11eb_9125_0242ac1c0002row4_col1{\n",
              "            background-color:  #f2c9b4;\n",
              "            color:  #000000;\n",
              "        }#T_cdfdc87a_8b14_11eb_9125_0242ac1c0002row4_col2{\n",
              "            background-color:  #eed0c0;\n",
              "            color:  #000000;\n",
              "        }#T_cdfdc87a_8b14_11eb_9125_0242ac1c0002row4_col3{\n",
              "            background-color:  #90b2fe;\n",
              "            color:  #000000;\n",
              "        }</style><table id=\"T_cdfdc87a_8b14_11eb_9125_0242ac1c0002\" ><thead>    <tr>        <th class=\"blank level0\" ></th>        <th class=\"col_heading level0 col0\" >entries</th>        <th class=\"col_heading level0 col1\" >exits</th>        <th class=\"col_heading level0 col2\" >flowtotal</th>        <th class=\"col_heading level0 col3\" >flowdelta</th>        <th class=\"col_heading level0 col4\" >flowabs</th>    </tr></thead><tbody>\n",
              "                <tr>\n",
              "                        <th id=\"T_cdfdc87a_8b14_11eb_9125_0242ac1c0002level0_row0\" class=\"row_heading level0 row0\" >entries</th>\n",
              "                        <td id=\"T_cdfdc87a_8b14_11eb_9125_0242ac1c0002row0_col0\" class=\"data row0 col0\" >1.0000</td>\n",
              "                        <td id=\"T_cdfdc87a_8b14_11eb_9125_0242ac1c0002row0_col1\" class=\"data row0 col1\" >0.9526</td>\n",
              "                        <td id=\"T_cdfdc87a_8b14_11eb_9125_0242ac1c0002row0_col2\" class=\"data row0 col2\" >0.9879</td>\n",
              "                        <td id=\"T_cdfdc87a_8b14_11eb_9125_0242ac1c0002row0_col3\" class=\"data row0 col3\" >0.1128</td>\n",
              "                        <td id=\"T_cdfdc87a_8b14_11eb_9125_0242ac1c0002row0_col4\" class=\"data row0 col4\" >0.5712</td>\n",
              "            </tr>\n",
              "            <tr>\n",
              "                        <th id=\"T_cdfdc87a_8b14_11eb_9125_0242ac1c0002level0_row1\" class=\"row_heading level0 row1\" >exits</th>\n",
              "                        <td id=\"T_cdfdc87a_8b14_11eb_9125_0242ac1c0002row1_col0\" class=\"data row1 col0\" >0.9526</td>\n",
              "                        <td id=\"T_cdfdc87a_8b14_11eb_9125_0242ac1c0002row1_col1\" class=\"data row1 col1\" >1.0000</td>\n",
              "                        <td id=\"T_cdfdc87a_8b14_11eb_9125_0242ac1c0002row1_col2\" class=\"data row1 col2\" >0.9882</td>\n",
              "                        <td id=\"T_cdfdc87a_8b14_11eb_9125_0242ac1c0002row1_col3\" class=\"data row1 col3\" >-0.1949</td>\n",
              "                        <td id=\"T_cdfdc87a_8b14_11eb_9125_0242ac1c0002row1_col4\" class=\"data row1 col4\" >0.5290</td>\n",
              "            </tr>\n",
              "            <tr>\n",
              "                        <th id=\"T_cdfdc87a_8b14_11eb_9125_0242ac1c0002level0_row2\" class=\"row_heading level0 row2\" >flowtotal</th>\n",
              "                        <td id=\"T_cdfdc87a_8b14_11eb_9125_0242ac1c0002row2_col0\" class=\"data row2 col0\" >0.9879</td>\n",
              "                        <td id=\"T_cdfdc87a_8b14_11eb_9125_0242ac1c0002row2_col1\" class=\"data row2 col1\" >0.9882</td>\n",
              "                        <td id=\"T_cdfdc87a_8b14_11eb_9125_0242ac1c0002row2_col2\" class=\"data row2 col2\" >1.0000</td>\n",
              "                        <td id=\"T_cdfdc87a_8b14_11eb_9125_0242ac1c0002row2_col3\" class=\"data row2 col3\" >-0.0425</td>\n",
              "                        <td id=\"T_cdfdc87a_8b14_11eb_9125_0242ac1c0002row2_col4\" class=\"data row2 col4\" >0.5566</td>\n",
              "            </tr>\n",
              "            <tr>\n",
              "                        <th id=\"T_cdfdc87a_8b14_11eb_9125_0242ac1c0002level0_row3\" class=\"row_heading level0 row3\" >flowdelta</th>\n",
              "                        <td id=\"T_cdfdc87a_8b14_11eb_9125_0242ac1c0002row3_col0\" class=\"data row3 col0\" >0.1128</td>\n",
              "                        <td id=\"T_cdfdc87a_8b14_11eb_9125_0242ac1c0002row3_col1\" class=\"data row3 col1\" >-0.1949</td>\n",
              "                        <td id=\"T_cdfdc87a_8b14_11eb_9125_0242ac1c0002row3_col2\" class=\"data row3 col2\" >-0.0425</td>\n",
              "                        <td id=\"T_cdfdc87a_8b14_11eb_9125_0242ac1c0002row3_col3\" class=\"data row3 col3\" >1.0000</td>\n",
              "                        <td id=\"T_cdfdc87a_8b14_11eb_9125_0242ac1c0002row3_col4\" class=\"data row3 col4\" >0.1137</td>\n",
              "            </tr>\n",
              "            <tr>\n",
              "                        <th id=\"T_cdfdc87a_8b14_11eb_9125_0242ac1c0002level0_row4\" class=\"row_heading level0 row4\" >flowabs</th>\n",
              "                        <td id=\"T_cdfdc87a_8b14_11eb_9125_0242ac1c0002row4_col0\" class=\"data row4 col0\" >0.5712</td>\n",
              "                        <td id=\"T_cdfdc87a_8b14_11eb_9125_0242ac1c0002row4_col1\" class=\"data row4 col1\" >0.5290</td>\n",
              "                        <td id=\"T_cdfdc87a_8b14_11eb_9125_0242ac1c0002row4_col2\" class=\"data row4 col2\" >0.5566</td>\n",
              "                        <td id=\"T_cdfdc87a_8b14_11eb_9125_0242ac1c0002row4_col3\" class=\"data row4 col3\" >0.1137</td>\n",
              "                        <td id=\"T_cdfdc87a_8b14_11eb_9125_0242ac1c0002row4_col4\" class=\"data row4 col4\" >1.0000</td>\n",
              "            </tr>\n",
              "    </tbody></table>"
            ],
            "text/plain": [
              "<pandas.io.formats.style.Styler at 0x7fef717c74d0>"
            ]
          },
          "metadata": {
            "tags": []
          },
          "execution_count": 48
        }
      ]
    },
    {
      "cell_type": "code",
      "metadata": {
        "_uuid": "9db912f6-a7bb-47fe-982e-67e0f8d8b12f",
        "_cell_guid": "d6e6d030-9930-4aa2-a410-a037092ffff7",
        "trusted": true,
        "id": "cSZLalqeyQv9",
        "colab": {
          "base_uri": "https://localhost:8080/",
          "height": 705
        },
        "outputId": "59f092b9-4228-4cd4-8f8a-46147656fd32"
      },
      "source": [
        "# To check the global data since the correlation is very high\n",
        "station_day_sum.unstack(level=0)"
      ],
      "execution_count": 49,
      "outputs": [
        {
          "output_type": "execute_result",
          "data": {
            "text/html": [
              "<div>\n",
              "<style scoped>\n",
              "    .dataframe tbody tr th:only-of-type {\n",
              "        vertical-align: middle;\n",
              "    }\n",
              "\n",
              "    .dataframe tbody tr th {\n",
              "        vertical-align: top;\n",
              "    }\n",
              "\n",
              "    .dataframe thead tr th {\n",
              "        text-align: left;\n",
              "    }\n",
              "\n",
              "    .dataframe thead tr:last-of-type th {\n",
              "        text-align: right;\n",
              "    }\n",
              "</style>\n",
              "<table border=\"1\" class=\"dataframe\">\n",
              "  <thead>\n",
              "    <tr>\n",
              "      <th></th>\n",
              "      <th colspan=\"40\" halign=\"left\">entries</th>\n",
              "      <th>...</th>\n",
              "      <th colspan=\"40\" halign=\"left\">flowabs</th>\n",
              "    </tr>\n",
              "    <tr>\n",
              "      <th>station</th>\n",
              "      <th>1 AVE</th>\n",
              "      <th>103 ST</th>\n",
              "      <th>103 ST-CORONA</th>\n",
              "      <th>104 ST</th>\n",
              "      <th>110 ST</th>\n",
              "      <th>110 ST-CATHEDRL</th>\n",
              "      <th>110 ST-CPN</th>\n",
              "      <th>111 ST</th>\n",
              "      <th>116 ST</th>\n",
              "      <th>116 ST-COLUMBIA</th>\n",
              "      <th>121 ST</th>\n",
              "      <th>125 ST</th>\n",
              "      <th>135 ST</th>\n",
              "      <th>137 ST-CITY COL</th>\n",
              "      <th>138 ST-3 AVE</th>\n",
              "      <th>138 ST-GR CONC</th>\n",
              "      <th>14 ST</th>\n",
              "      <th>14 ST-6 AVE</th>\n",
              "      <th>14 ST-UNION SQ</th>\n",
              "      <th>145 ST</th>\n",
              "      <th>148 ST-LENOX</th>\n",
              "      <th>149 ST-3 AVE</th>\n",
              "      <th>149 ST-GR CONC</th>\n",
              "      <th>14TH STREET</th>\n",
              "      <th>15 ST-PROSPECT</th>\n",
              "      <th>155 ST</th>\n",
              "      <th>157 ST</th>\n",
              "      <th>161 ST-YANKEE</th>\n",
              "      <th>163 ST-AMSTERDM</th>\n",
              "      <th>167 ST</th>\n",
              "      <th>168 ST-BROADWAY</th>\n",
              "      <th>169 ST</th>\n",
              "      <th>170 ST</th>\n",
              "      <th>174 ST</th>\n",
              "      <th>174-175 ST</th>\n",
              "      <th>175 ST</th>\n",
              "      <th>176 ST</th>\n",
              "      <th>18 AVE</th>\n",
              "      <th>18 ST</th>\n",
              "      <th>181 ST</th>\n",
              "      <th>...</th>\n",
              "      <th>SHEEPSHEAD BAY</th>\n",
              "      <th>SHEPHERD AVE</th>\n",
              "      <th>SIMPSON ST</th>\n",
              "      <th>SMITH-9 ST</th>\n",
              "      <th>SOUTH FERRY</th>\n",
              "      <th>SPRING ST</th>\n",
              "      <th>ST LAWRENCE AVE</th>\n",
              "      <th>ST. GEORGE</th>\n",
              "      <th>STEINWAY ST</th>\n",
              "      <th>STERLING ST</th>\n",
              "      <th>STILLWELL AVE</th>\n",
              "      <th>SUTPHIN BLVD</th>\n",
              "      <th>SUTTER AVE</th>\n",
              "      <th>THIRTY ST</th>\n",
              "      <th>THIRTY THIRD ST</th>\n",
              "      <th>TOMPKINSVILLE</th>\n",
              "      <th>TREMONT AVE</th>\n",
              "      <th>TWENTY THIRD ST</th>\n",
              "      <th>UNION ST</th>\n",
              "      <th>UNION TPK-KEW G</th>\n",
              "      <th>UTICA AVE</th>\n",
              "      <th>VAN ALSTON-21ST</th>\n",
              "      <th>VAN SICLEN AVE</th>\n",
              "      <th>VAN WYCK BLVD</th>\n",
              "      <th>VERNON/JACKSON</th>\n",
              "      <th>W 4 ST-WASH SQ</th>\n",
              "      <th>W 8 ST-AQUARIUM</th>\n",
              "      <th>WAKEFIELD-241</th>\n",
              "      <th>WALL ST</th>\n",
              "      <th>WASHINGTON-36 A</th>\n",
              "      <th>WESTCHESTER SQ</th>\n",
              "      <th>WHITEHALL ST</th>\n",
              "      <th>WHITLOCK AVE</th>\n",
              "      <th>WILSON AVE</th>\n",
              "      <th>WINTHROP ST</th>\n",
              "      <th>WOODHAVEN BLVD</th>\n",
              "      <th>WOODLAWN ROAD</th>\n",
              "      <th>WORLD TRADE CTR</th>\n",
              "      <th>YORK ST</th>\n",
              "      <th>ZEREGA AVE</th>\n",
              "    </tr>\n",
              "    <tr>\n",
              "      <th>time</th>\n",
              "      <th></th>\n",
              "      <th></th>\n",
              "      <th></th>\n",
              "      <th></th>\n",
              "      <th></th>\n",
              "      <th></th>\n",
              "      <th></th>\n",
              "      <th></th>\n",
              "      <th></th>\n",
              "      <th></th>\n",
              "      <th></th>\n",
              "      <th></th>\n",
              "      <th></th>\n",
              "      <th></th>\n",
              "      <th></th>\n",
              "      <th></th>\n",
              "      <th></th>\n",
              "      <th></th>\n",
              "      <th></th>\n",
              "      <th></th>\n",
              "      <th></th>\n",
              "      <th></th>\n",
              "      <th></th>\n",
              "      <th></th>\n",
              "      <th></th>\n",
              "      <th></th>\n",
              "      <th></th>\n",
              "      <th></th>\n",
              "      <th></th>\n",
              "      <th></th>\n",
              "      <th></th>\n",
              "      <th></th>\n",
              "      <th></th>\n",
              "      <th></th>\n",
              "      <th></th>\n",
              "      <th></th>\n",
              "      <th></th>\n",
              "      <th></th>\n",
              "      <th></th>\n",
              "      <th></th>\n",
              "      <th></th>\n",
              "      <th></th>\n",
              "      <th></th>\n",
              "      <th></th>\n",
              "      <th></th>\n",
              "      <th></th>\n",
              "      <th></th>\n",
              "      <th></th>\n",
              "      <th></th>\n",
              "      <th></th>\n",
              "      <th></th>\n",
              "      <th></th>\n",
              "      <th></th>\n",
              "      <th></th>\n",
              "      <th></th>\n",
              "      <th></th>\n",
              "      <th></th>\n",
              "      <th></th>\n",
              "      <th></th>\n",
              "      <th></th>\n",
              "      <th></th>\n",
              "      <th></th>\n",
              "      <th></th>\n",
              "      <th></th>\n",
              "      <th></th>\n",
              "      <th></th>\n",
              "      <th></th>\n",
              "      <th></th>\n",
              "      <th></th>\n",
              "      <th></th>\n",
              "      <th></th>\n",
              "      <th></th>\n",
              "      <th></th>\n",
              "      <th></th>\n",
              "      <th></th>\n",
              "      <th></th>\n",
              "      <th></th>\n",
              "      <th></th>\n",
              "      <th></th>\n",
              "      <th></th>\n",
              "      <th></th>\n",
              "    </tr>\n",
              "  </thead>\n",
              "  <tbody>\n",
              "    <tr>\n",
              "      <th>2011-01-01</th>\n",
              "      <td>232541330.0</td>\n",
              "      <td>557738613.0</td>\n",
              "      <td>288953790.0</td>\n",
              "      <td>42903076.0</td>\n",
              "      <td>139611889.0</td>\n",
              "      <td>178056976.0</td>\n",
              "      <td>72861474.0</td>\n",
              "      <td>317446116.0</td>\n",
              "      <td>437917999.0</td>\n",
              "      <td>249728760.0</td>\n",
              "      <td>26362809.0</td>\n",
              "      <td>9.330377e+08</td>\n",
              "      <td>219917624.0</td>\n",
              "      <td>216757841.0</td>\n",
              "      <td>88437405.0</td>\n",
              "      <td>30592404.0</td>\n",
              "      <td>500252538.0</td>\n",
              "      <td>223699215.0</td>\n",
              "      <td>1.240523e+09</td>\n",
              "      <td>589916598.0</td>\n",
              "      <td>39369243.0</td>\n",
              "      <td>283283257.0</td>\n",
              "      <td>148069905.0</td>\n",
              "      <td>9211332.0</td>\n",
              "      <td>73601811.0</td>\n",
              "      <td>137645969.0</td>\n",
              "      <td>129919683.0</td>\n",
              "      <td>290062956.0</td>\n",
              "      <td>99807829.0</td>\n",
              "      <td>254481656.0</td>\n",
              "      <td>429464737.0</td>\n",
              "      <td>117427933.0</td>\n",
              "      <td>158939684.0</td>\n",
              "      <td>120931434.0</td>\n",
              "      <td>71361585.0</td>\n",
              "      <td>127454025.0</td>\n",
              "      <td>52072424.0</td>\n",
              "      <td>281847001.0</td>\n",
              "      <td>186153215.0</td>\n",
              "      <td>347256085.0</td>\n",
              "      <td>...</td>\n",
              "      <td>887119.0</td>\n",
              "      <td>6047974.0</td>\n",
              "      <td>119569880.0</td>\n",
              "      <td>14462749.0</td>\n",
              "      <td>27673462.0</td>\n",
              "      <td>87432184.0</td>\n",
              "      <td>11810414.0</td>\n",
              "      <td>198324368.0</td>\n",
              "      <td>86795681.0</td>\n",
              "      <td>20004712.0</td>\n",
              "      <td>21863244.0</td>\n",
              "      <td>56413753.0</td>\n",
              "      <td>35385715.0</td>\n",
              "      <td>32048713.0</td>\n",
              "      <td>12673047.0</td>\n",
              "      <td>25174290.0</td>\n",
              "      <td>12788456.0</td>\n",
              "      <td>6611611.0</td>\n",
              "      <td>31878161.0</td>\n",
              "      <td>5465092.0</td>\n",
              "      <td>38916168.0</td>\n",
              "      <td>3320086.0</td>\n",
              "      <td>31412190.0</td>\n",
              "      <td>74562335.0</td>\n",
              "      <td>79430066.0</td>\n",
              "      <td>7990166.0</td>\n",
              "      <td>5819276.0</td>\n",
              "      <td>4115952.0</td>\n",
              "      <td>776652182.0</td>\n",
              "      <td>2662212.0</td>\n",
              "      <td>3602491.0</td>\n",
              "      <td>6486269.0</td>\n",
              "      <td>1137448.0</td>\n",
              "      <td>5953200.0</td>\n",
              "      <td>121918812.0</td>\n",
              "      <td>129704673.0</td>\n",
              "      <td>43611618.0</td>\n",
              "      <td>60361403.0</td>\n",
              "      <td>5695710.0</td>\n",
              "      <td>27613442.0</td>\n",
              "    </tr>\n",
              "    <tr>\n",
              "      <th>2011-01-02</th>\n",
              "      <td>232624692.0</td>\n",
              "      <td>543010534.0</td>\n",
              "      <td>278464997.0</td>\n",
              "      <td>51490849.0</td>\n",
              "      <td>166776921.0</td>\n",
              "      <td>177396402.0</td>\n",
              "      <td>72889336.0</td>\n",
              "      <td>317487895.0</td>\n",
              "      <td>497369803.0</td>\n",
              "      <td>265764664.0</td>\n",
              "      <td>26369514.0</td>\n",
              "      <td>9.142220e+08</td>\n",
              "      <td>233092098.0</td>\n",
              "      <td>232136931.0</td>\n",
              "      <td>87098037.0</td>\n",
              "      <td>30597828.0</td>\n",
              "      <td>539674847.0</td>\n",
              "      <td>223741943.0</td>\n",
              "      <td>1.222954e+09</td>\n",
              "      <td>590028334.0</td>\n",
              "      <td>39378636.0</td>\n",
              "      <td>283337000.0</td>\n",
              "      <td>148096749.0</td>\n",
              "      <td>10394435.0</td>\n",
              "      <td>73622819.0</td>\n",
              "      <td>140674729.0</td>\n",
              "      <td>116666621.0</td>\n",
              "      <td>290122062.0</td>\n",
              "      <td>99063901.0</td>\n",
              "      <td>254538467.0</td>\n",
              "      <td>429518854.0</td>\n",
              "      <td>108979322.0</td>\n",
              "      <td>157814247.0</td>\n",
              "      <td>134160747.0</td>\n",
              "      <td>71375157.0</td>\n",
              "      <td>127488723.0</td>\n",
              "      <td>52087838.0</td>\n",
              "      <td>281892324.0</td>\n",
              "      <td>199450227.0</td>\n",
              "      <td>332148917.0</td>\n",
              "      <td>...</td>\n",
              "      <td>7342321.0</td>\n",
              "      <td>6048295.0</td>\n",
              "      <td>47913547.0</td>\n",
              "      <td>14465178.0</td>\n",
              "      <td>27662808.0</td>\n",
              "      <td>87448349.0</td>\n",
              "      <td>11815247.0</td>\n",
              "      <td>198346540.0</td>\n",
              "      <td>86803750.0</td>\n",
              "      <td>20009927.0</td>\n",
              "      <td>24438462.0</td>\n",
              "      <td>52578190.0</td>\n",
              "      <td>31976027.0</td>\n",
              "      <td>27985627.0</td>\n",
              "      <td>8617107.0</td>\n",
              "      <td>29735224.0</td>\n",
              "      <td>12788789.0</td>\n",
              "      <td>1396067.0</td>\n",
              "      <td>26181117.0</td>\n",
              "      <td>5453705.0</td>\n",
              "      <td>38360895.0</td>\n",
              "      <td>3320825.0</td>\n",
              "      <td>31416457.0</td>\n",
              "      <td>74568511.0</td>\n",
              "      <td>78885373.0</td>\n",
              "      <td>62104570.0</td>\n",
              "      <td>6079761.0</td>\n",
              "      <td>4118080.0</td>\n",
              "      <td>762824461.0</td>\n",
              "      <td>2661287.0</td>\n",
              "      <td>3604496.0</td>\n",
              "      <td>1494544.0</td>\n",
              "      <td>1137920.0</td>\n",
              "      <td>5953225.0</td>\n",
              "      <td>121931263.0</td>\n",
              "      <td>118928709.0</td>\n",
              "      <td>43616361.0</td>\n",
              "      <td>60362577.0</td>\n",
              "      <td>5697011.0</td>\n",
              "      <td>27614199.0</td>\n",
              "    </tr>\n",
              "    <tr>\n",
              "      <th>2011-01-03</th>\n",
              "      <td>232704316.0</td>\n",
              "      <td>575097801.0</td>\n",
              "      <td>273269114.0</td>\n",
              "      <td>65854645.0</td>\n",
              "      <td>144992164.0</td>\n",
              "      <td>178171551.0</td>\n",
              "      <td>75610198.0</td>\n",
              "      <td>317542838.0</td>\n",
              "      <td>552028801.0</td>\n",
              "      <td>271743395.0</td>\n",
              "      <td>38826469.0</td>\n",
              "      <td>1.014563e+09</td>\n",
              "      <td>215484932.0</td>\n",
              "      <td>227864465.0</td>\n",
              "      <td>107511660.0</td>\n",
              "      <td>30605346.0</td>\n",
              "      <td>513427797.0</td>\n",
              "      <td>223792341.0</td>\n",
              "      <td>1.411639e+09</td>\n",
              "      <td>615825235.0</td>\n",
              "      <td>39390956.0</td>\n",
              "      <td>350582994.0</td>\n",
              "      <td>148130476.0</td>\n",
              "      <td>10893374.0</td>\n",
              "      <td>84603078.0</td>\n",
              "      <td>129359895.0</td>\n",
              "      <td>130008828.0</td>\n",
              "      <td>349446647.0</td>\n",
              "      <td>91684457.0</td>\n",
              "      <td>254609623.0</td>\n",
              "      <td>429586072.0</td>\n",
              "      <td>109009044.0</td>\n",
              "      <td>192143399.0</td>\n",
              "      <td>118464711.0</td>\n",
              "      <td>71391492.0</td>\n",
              "      <td>127535215.0</td>\n",
              "      <td>52107087.0</td>\n",
              "      <td>281778245.0</td>\n",
              "      <td>308177285.0</td>\n",
              "      <td>326662108.0</td>\n",
              "      <td>...</td>\n",
              "      <td>2803412.0</td>\n",
              "      <td>6050910.0</td>\n",
              "      <td>32585139.0</td>\n",
              "      <td>14467085.0</td>\n",
              "      <td>27658418.0</td>\n",
              "      <td>102729760.0</td>\n",
              "      <td>11824302.0</td>\n",
              "      <td>200464578.0</td>\n",
              "      <td>92541080.0</td>\n",
              "      <td>20019396.0</td>\n",
              "      <td>30369176.0</td>\n",
              "      <td>55937603.0</td>\n",
              "      <td>31993117.0</td>\n",
              "      <td>27635554.0</td>\n",
              "      <td>6815418.0</td>\n",
              "      <td>69613524.0</td>\n",
              "      <td>14696488.0</td>\n",
              "      <td>4732330.0</td>\n",
              "      <td>26179566.0</td>\n",
              "      <td>5414846.0</td>\n",
              "      <td>39327131.0</td>\n",
              "      <td>3322266.0</td>\n",
              "      <td>31363586.0</td>\n",
              "      <td>161584856.0</td>\n",
              "      <td>160323602.0</td>\n",
              "      <td>6749021.0</td>\n",
              "      <td>5822196.0</td>\n",
              "      <td>2898141.0</td>\n",
              "      <td>737767701.0</td>\n",
              "      <td>2663151.0</td>\n",
              "      <td>3605663.0</td>\n",
              "      <td>8244105.0</td>\n",
              "      <td>1516696.0</td>\n",
              "      <td>5955263.0</td>\n",
              "      <td>119862756.0</td>\n",
              "      <td>118706633.0</td>\n",
              "      <td>43629014.0</td>\n",
              "      <td>60364191.0</td>\n",
              "      <td>5695317.0</td>\n",
              "      <td>27617424.0</td>\n",
              "    </tr>\n",
              "    <tr>\n",
              "      <th>2011-01-04</th>\n",
              "      <td>232830124.0</td>\n",
              "      <td>553525253.0</td>\n",
              "      <td>268100135.0</td>\n",
              "      <td>51514949.0</td>\n",
              "      <td>139757524.0</td>\n",
              "      <td>178255130.0</td>\n",
              "      <td>85129461.0</td>\n",
              "      <td>317621339.0</td>\n",
              "      <td>485946030.0</td>\n",
              "      <td>256998760.0</td>\n",
              "      <td>26392128.0</td>\n",
              "      <td>9.200698e+08</td>\n",
              "      <td>192754555.0</td>\n",
              "      <td>236599305.0</td>\n",
              "      <td>88537424.0</td>\n",
              "      <td>30623113.0</td>\n",
              "      <td>500688774.0</td>\n",
              "      <td>215926024.0</td>\n",
              "      <td>1.299121e+09</td>\n",
              "      <td>782119127.0</td>\n",
              "      <td>60895565.0</td>\n",
              "      <td>283559867.0</td>\n",
              "      <td>148203556.0</td>\n",
              "      <td>12469617.0</td>\n",
              "      <td>73684170.0</td>\n",
              "      <td>140746919.0</td>\n",
              "      <td>129218354.0</td>\n",
              "      <td>290333255.0</td>\n",
              "      <td>99866406.0</td>\n",
              "      <td>254717352.0</td>\n",
              "      <td>429707091.0</td>\n",
              "      <td>135675178.0</td>\n",
              "      <td>176039807.0</td>\n",
              "      <td>106264954.0</td>\n",
              "      <td>79185966.0</td>\n",
              "      <td>127602119.0</td>\n",
              "      <td>52137964.0</td>\n",
              "      <td>254836306.0</td>\n",
              "      <td>199512774.0</td>\n",
              "      <td>347531698.0</td>\n",
              "      <td>...</td>\n",
              "      <td>4093855.0</td>\n",
              "      <td>6055087.0</td>\n",
              "      <td>0.0</td>\n",
              "      <td>14469363.0</td>\n",
              "      <td>31611813.0</td>\n",
              "      <td>76137230.0</td>\n",
              "      <td>11837354.0</td>\n",
              "      <td>198451446.0</td>\n",
              "      <td>86834862.0</td>\n",
              "      <td>30050540.0</td>\n",
              "      <td>25154391.0</td>\n",
              "      <td>55966225.0</td>\n",
              "      <td>32018108.0</td>\n",
              "      <td>32012934.0</td>\n",
              "      <td>9064302.0</td>\n",
              "      <td>39656497.0</td>\n",
              "      <td>13317495.0</td>\n",
              "      <td>5761164.0</td>\n",
              "      <td>26175101.0</td>\n",
              "      <td>5380442.0</td>\n",
              "      <td>38146628.0</td>\n",
              "      <td>3416861.0</td>\n",
              "      <td>30172653.0</td>\n",
              "      <td>74598499.0</td>\n",
              "      <td>77763308.0</td>\n",
              "      <td>8617266.0</td>\n",
              "      <td>5826559.0</td>\n",
              "      <td>4115141.0</td>\n",
              "      <td>723414648.0</td>\n",
              "      <td>2664442.0</td>\n",
              "      <td>3602230.0</td>\n",
              "      <td>11268350.0</td>\n",
              "      <td>1137675.0</td>\n",
              "      <td>12777890.0</td>\n",
              "      <td>121438647.0</td>\n",
              "      <td>118749120.0</td>\n",
              "      <td>43651351.0</td>\n",
              "      <td>60392350.0</td>\n",
              "      <td>5697425.0</td>\n",
              "      <td>27623311.0</td>\n",
              "    </tr>\n",
              "    <tr>\n",
              "      <th>2011-01-05</th>\n",
              "      <td>256354593.0</td>\n",
              "      <td>557971456.0</td>\n",
              "      <td>268207978.0</td>\n",
              "      <td>51530400.0</td>\n",
              "      <td>139828177.0</td>\n",
              "      <td>164755098.0</td>\n",
              "      <td>111623985.0</td>\n",
              "      <td>317701443.0</td>\n",
              "      <td>585765440.0</td>\n",
              "      <td>249916610.0</td>\n",
              "      <td>26405892.0</td>\n",
              "      <td>1.010912e+09</td>\n",
              "      <td>290644000.0</td>\n",
              "      <td>226452125.0</td>\n",
              "      <td>75931985.0</td>\n",
              "      <td>30642551.0</td>\n",
              "      <td>500922569.0</td>\n",
              "      <td>313663151.0</td>\n",
              "      <td>1.295931e+09</td>\n",
              "      <td>590536301.0</td>\n",
              "      <td>39434350.0</td>\n",
              "      <td>454199010.0</td>\n",
              "      <td>148279854.0</td>\n",
              "      <td>10846137.0</td>\n",
              "      <td>73722872.0</td>\n",
              "      <td>149138161.0</td>\n",
              "      <td>128940196.0</td>\n",
              "      <td>290472321.0</td>\n",
              "      <td>99893274.0</td>\n",
              "      <td>255025016.0</td>\n",
              "      <td>435814860.0</td>\n",
              "      <td>109113249.0</td>\n",
              "      <td>172886401.0</td>\n",
              "      <td>121083002.0</td>\n",
              "      <td>71445520.0</td>\n",
              "      <td>128743834.0</td>\n",
              "      <td>52169463.0</td>\n",
              "      <td>200326272.0</td>\n",
              "      <td>335570184.0</td>\n",
              "      <td>383024432.0</td>\n",
              "      <td>...</td>\n",
              "      <td>1085589.0</td>\n",
              "      <td>7791922.0</td>\n",
              "      <td>0.0</td>\n",
              "      <td>14472047.0</td>\n",
              "      <td>50976210.0</td>\n",
              "      <td>87541972.0</td>\n",
              "      <td>11850256.0</td>\n",
              "      <td>276945234.0</td>\n",
              "      <td>86853319.0</td>\n",
              "      <td>20045908.0</td>\n",
              "      <td>22600309.0</td>\n",
              "      <td>57121758.0</td>\n",
              "      <td>47161611.0</td>\n",
              "      <td>17463366.0</td>\n",
              "      <td>18236905.0</td>\n",
              "      <td>29746739.0</td>\n",
              "      <td>12806550.0</td>\n",
              "      <td>5642464.0</td>\n",
              "      <td>26170833.0</td>\n",
              "      <td>1039670.0</td>\n",
              "      <td>38979904.0</td>\n",
              "      <td>3800473.0</td>\n",
              "      <td>29879356.0</td>\n",
              "      <td>74617388.0</td>\n",
              "      <td>76074191.0</td>\n",
              "      <td>11286935.0</td>\n",
              "      <td>5831264.0</td>\n",
              "      <td>4114292.0</td>\n",
              "      <td>864001114.0</td>\n",
              "      <td>2664576.0</td>\n",
              "      <td>3599252.0</td>\n",
              "      <td>6007713.0</td>\n",
              "      <td>1137866.0</td>\n",
              "      <td>5958395.0</td>\n",
              "      <td>122029612.0</td>\n",
              "      <td>115040602.0</td>\n",
              "      <td>43674868.0</td>\n",
              "      <td>66259390.0</td>\n",
              "      <td>5700086.0</td>\n",
              "      <td>27226527.0</td>\n",
              "    </tr>\n",
              "    <tr>\n",
              "      <th>...</th>\n",
              "      <td>...</td>\n",
              "      <td>...</td>\n",
              "      <td>...</td>\n",
              "      <td>...</td>\n",
              "      <td>...</td>\n",
              "      <td>...</td>\n",
              "      <td>...</td>\n",
              "      <td>...</td>\n",
              "      <td>...</td>\n",
              "      <td>...</td>\n",
              "      <td>...</td>\n",
              "      <td>...</td>\n",
              "      <td>...</td>\n",
              "      <td>...</td>\n",
              "      <td>...</td>\n",
              "      <td>...</td>\n",
              "      <td>...</td>\n",
              "      <td>...</td>\n",
              "      <td>...</td>\n",
              "      <td>...</td>\n",
              "      <td>...</td>\n",
              "      <td>...</td>\n",
              "      <td>...</td>\n",
              "      <td>...</td>\n",
              "      <td>...</td>\n",
              "      <td>...</td>\n",
              "      <td>...</td>\n",
              "      <td>...</td>\n",
              "      <td>...</td>\n",
              "      <td>...</td>\n",
              "      <td>...</td>\n",
              "      <td>...</td>\n",
              "      <td>...</td>\n",
              "      <td>...</td>\n",
              "      <td>...</td>\n",
              "      <td>...</td>\n",
              "      <td>...</td>\n",
              "      <td>...</td>\n",
              "      <td>...</td>\n",
              "      <td>...</td>\n",
              "      <td>...</td>\n",
              "      <td>...</td>\n",
              "      <td>...</td>\n",
              "      <td>...</td>\n",
              "      <td>...</td>\n",
              "      <td>...</td>\n",
              "      <td>...</td>\n",
              "      <td>...</td>\n",
              "      <td>...</td>\n",
              "      <td>...</td>\n",
              "      <td>...</td>\n",
              "      <td>...</td>\n",
              "      <td>...</td>\n",
              "      <td>...</td>\n",
              "      <td>...</td>\n",
              "      <td>...</td>\n",
              "      <td>...</td>\n",
              "      <td>...</td>\n",
              "      <td>...</td>\n",
              "      <td>...</td>\n",
              "      <td>...</td>\n",
              "      <td>...</td>\n",
              "      <td>...</td>\n",
              "      <td>...</td>\n",
              "      <td>...</td>\n",
              "      <td>...</td>\n",
              "      <td>...</td>\n",
              "      <td>...</td>\n",
              "      <td>...</td>\n",
              "      <td>...</td>\n",
              "      <td>...</td>\n",
              "      <td>...</td>\n",
              "      <td>...</td>\n",
              "      <td>...</td>\n",
              "      <td>...</td>\n",
              "      <td>...</td>\n",
              "      <td>...</td>\n",
              "      <td>...</td>\n",
              "      <td>...</td>\n",
              "      <td>...</td>\n",
              "      <td>...</td>\n",
              "    </tr>\n",
              "    <tr>\n",
              "      <th>2011-12-27</th>\n",
              "      <td>274513935.0</td>\n",
              "      <td>630170941.0</td>\n",
              "      <td>304247839.0</td>\n",
              "      <td>56185315.0</td>\n",
              "      <td>120031560.0</td>\n",
              "      <td>192650052.0</td>\n",
              "      <td>84548172.0</td>\n",
              "      <td>287244877.0</td>\n",
              "      <td>496498051.0</td>\n",
              "      <td>305951618.0</td>\n",
              "      <td>30355760.0</td>\n",
              "      <td>1.143749e+09</td>\n",
              "      <td>241615493.0</td>\n",
              "      <td>268371829.0</td>\n",
              "      <td>102563671.0</td>\n",
              "      <td>36135115.0</td>\n",
              "      <td>668422050.0</td>\n",
              "      <td>219123299.0</td>\n",
              "      <td>1.026801e+09</td>\n",
              "      <td>826611088.0</td>\n",
              "      <td>46044957.0</td>\n",
              "      <td>284552956.0</td>\n",
              "      <td>117461624.0</td>\n",
              "      <td>22015708.0</td>\n",
              "      <td>82229118.0</td>\n",
              "      <td>144884556.0</td>\n",
              "      <td>260693805.0</td>\n",
              "      <td>336504352.0</td>\n",
              "      <td>108405851.0</td>\n",
              "      <td>272248973.0</td>\n",
              "      <td>462782519.0</td>\n",
              "      <td>94475888.0</td>\n",
              "      <td>194063100.0</td>\n",
              "      <td>121578776.0</td>\n",
              "      <td>80299141.0</td>\n",
              "      <td>148884894.0</td>\n",
              "      <td>62307183.0</td>\n",
              "      <td>314965033.0</td>\n",
              "      <td>152376798.0</td>\n",
              "      <td>387506286.0</td>\n",
              "      <td>...</td>\n",
              "      <td>19088619.0</td>\n",
              "      <td>7158655.0</td>\n",
              "      <td>135009616.0</td>\n",
              "      <td>NaN</td>\n",
              "      <td>26884580.0</td>\n",
              "      <td>44766827.0</td>\n",
              "      <td>12370140.0</td>\n",
              "      <td>97018178.0</td>\n",
              "      <td>92794414.0</td>\n",
              "      <td>23807713.0</td>\n",
              "      <td>27649197.0</td>\n",
              "      <td>31545557.0</td>\n",
              "      <td>38872343.0</td>\n",
              "      <td>51708798.0</td>\n",
              "      <td>8365305.0</td>\n",
              "      <td>31220190.0</td>\n",
              "      <td>6033993.0</td>\n",
              "      <td>3810325.0</td>\n",
              "      <td>24921929.0</td>\n",
              "      <td>37459368.0</td>\n",
              "      <td>43928557.0</td>\n",
              "      <td>3671630.0</td>\n",
              "      <td>33773335.0</td>\n",
              "      <td>79968522.0</td>\n",
              "      <td>70302463.0</td>\n",
              "      <td>267375.0</td>\n",
              "      <td>6780182.0</td>\n",
              "      <td>3987240.0</td>\n",
              "      <td>596505825.0</td>\n",
              "      <td>1802170.0</td>\n",
              "      <td>2974160.0</td>\n",
              "      <td>7992638.0</td>\n",
              "      <td>7812369.0</td>\n",
              "      <td>6384627.0</td>\n",
              "      <td>132611662.0</td>\n",
              "      <td>116602029.0</td>\n",
              "      <td>52671392.0</td>\n",
              "      <td>69848356.0</td>\n",
              "      <td>9907737.0</td>\n",
              "      <td>29250954.0</td>\n",
              "    </tr>\n",
              "    <tr>\n",
              "      <th>2011-12-28</th>\n",
              "      <td>274606567.0</td>\n",
              "      <td>614582643.0</td>\n",
              "      <td>304348316.0</td>\n",
              "      <td>56198185.0</td>\n",
              "      <td>147142780.0</td>\n",
              "      <td>214595256.0</td>\n",
              "      <td>84587345.0</td>\n",
              "      <td>297258139.0</td>\n",
              "      <td>518683585.0</td>\n",
              "      <td>338032684.0</td>\n",
              "      <td>28894194.0</td>\n",
              "      <td>1.082091e+09</td>\n",
              "      <td>236991310.0</td>\n",
              "      <td>437965218.0</td>\n",
              "      <td>99989015.0</td>\n",
              "      <td>36150273.0</td>\n",
              "      <td>532554523.0</td>\n",
              "      <td>232533932.0</td>\n",
              "      <td>1.146286e+09</td>\n",
              "      <td>656341433.0</td>\n",
              "      <td>46061281.0</td>\n",
              "      <td>236553228.0</td>\n",
              "      <td>117516774.0</td>\n",
              "      <td>22248243.0</td>\n",
              "      <td>101238359.0</td>\n",
              "      <td>153502371.0</td>\n",
              "      <td>189420853.0</td>\n",
              "      <td>336618665.0</td>\n",
              "      <td>107400585.0</td>\n",
              "      <td>273660679.0</td>\n",
              "      <td>385647586.0</td>\n",
              "      <td>118597149.0</td>\n",
              "      <td>189494251.0</td>\n",
              "      <td>115546307.0</td>\n",
              "      <td>80324266.0</td>\n",
              "      <td>148954348.0</td>\n",
              "      <td>62334195.0</td>\n",
              "      <td>337984472.0</td>\n",
              "      <td>162045793.0</td>\n",
              "      <td>385941071.0</td>\n",
              "      <td>...</td>\n",
              "      <td>22009636.0</td>\n",
              "      <td>7160936.0</td>\n",
              "      <td>133176523.0</td>\n",
              "      <td>NaN</td>\n",
              "      <td>34578458.0</td>\n",
              "      <td>44803527.0</td>\n",
              "      <td>12370483.0</td>\n",
              "      <td>97087113.0</td>\n",
              "      <td>92817326.0</td>\n",
              "      <td>23816929.0</td>\n",
              "      <td>25651180.0</td>\n",
              "      <td>28362194.0</td>\n",
              "      <td>38889464.0</td>\n",
              "      <td>51157787.0</td>\n",
              "      <td>10472368.0</td>\n",
              "      <td>31223813.0</td>\n",
              "      <td>7193040.0</td>\n",
              "      <td>4375173.0</td>\n",
              "      <td>17887920.0</td>\n",
              "      <td>31297652.0</td>\n",
              "      <td>51164544.0</td>\n",
              "      <td>3672471.0</td>\n",
              "      <td>33783042.0</td>\n",
              "      <td>79982986.0</td>\n",
              "      <td>88867127.0</td>\n",
              "      <td>12823009.0</td>\n",
              "      <td>6784134.0</td>\n",
              "      <td>5077377.0</td>\n",
              "      <td>576316706.0</td>\n",
              "      <td>1799697.0</td>\n",
              "      <td>2974325.0</td>\n",
              "      <td>10642831.0</td>\n",
              "      <td>7811921.0</td>\n",
              "      <td>6385632.0</td>\n",
              "      <td>132639649.0</td>\n",
              "      <td>131974244.0</td>\n",
              "      <td>52700405.0</td>\n",
              "      <td>69878919.0</td>\n",
              "      <td>6493850.0</td>\n",
              "      <td>29255370.0</td>\n",
              "    </tr>\n",
              "    <tr>\n",
              "      <th>2011-12-29</th>\n",
              "      <td>274714891.0</td>\n",
              "      <td>625150640.0</td>\n",
              "      <td>310686949.0</td>\n",
              "      <td>56211554.0</td>\n",
              "      <td>166682806.0</td>\n",
              "      <td>269469003.0</td>\n",
              "      <td>84629781.0</td>\n",
              "      <td>413491186.0</td>\n",
              "      <td>501012264.0</td>\n",
              "      <td>298012494.0</td>\n",
              "      <td>28906293.0</td>\n",
              "      <td>1.139883e+09</td>\n",
              "      <td>239444344.0</td>\n",
              "      <td>258970137.0</td>\n",
              "      <td>104521585.0</td>\n",
              "      <td>36166081.0</td>\n",
              "      <td>547345588.0</td>\n",
              "      <td>236846719.0</td>\n",
              "      <td>1.055240e+09</td>\n",
              "      <td>660936250.0</td>\n",
              "      <td>46078562.0</td>\n",
              "      <td>236676031.0</td>\n",
              "      <td>117573305.0</td>\n",
              "      <td>21705120.0</td>\n",
              "      <td>82276040.0</td>\n",
              "      <td>155053085.0</td>\n",
              "      <td>150801566.0</td>\n",
              "      <td>353174169.0</td>\n",
              "      <td>108452330.0</td>\n",
              "      <td>322027926.0</td>\n",
              "      <td>385773039.0</td>\n",
              "      <td>94565517.0</td>\n",
              "      <td>188351338.0</td>\n",
              "      <td>122699084.0</td>\n",
              "      <td>80350948.0</td>\n",
              "      <td>150337606.0</td>\n",
              "      <td>62362550.0</td>\n",
              "      <td>318429921.0</td>\n",
              "      <td>152456510.0</td>\n",
              "      <td>402535907.0</td>\n",
              "      <td>...</td>\n",
              "      <td>21899970.0</td>\n",
              "      <td>7163578.0</td>\n",
              "      <td>130017612.0</td>\n",
              "      <td>NaN</td>\n",
              "      <td>26878162.0</td>\n",
              "      <td>79932684.0</td>\n",
              "      <td>12371320.0</td>\n",
              "      <td>97271875.0</td>\n",
              "      <td>92842184.0</td>\n",
              "      <td>23827609.0</td>\n",
              "      <td>19567889.0</td>\n",
              "      <td>15728148.0</td>\n",
              "      <td>60848792.0</td>\n",
              "      <td>51919072.0</td>\n",
              "      <td>18794604.0</td>\n",
              "      <td>46841621.0</td>\n",
              "      <td>5268985.0</td>\n",
              "      <td>1979531.0</td>\n",
              "      <td>14800799.0</td>\n",
              "      <td>31331123.0</td>\n",
              "      <td>47221404.0</td>\n",
              "      <td>3673070.0</td>\n",
              "      <td>35250720.0</td>\n",
              "      <td>79997707.0</td>\n",
              "      <td>88880655.0</td>\n",
              "      <td>75069924.0</td>\n",
              "      <td>6787413.0</td>\n",
              "      <td>3986349.0</td>\n",
              "      <td>568318377.0</td>\n",
              "      <td>1797841.0</td>\n",
              "      <td>2975312.0</td>\n",
              "      <td>5873207.0</td>\n",
              "      <td>7811611.0</td>\n",
              "      <td>6386806.0</td>\n",
              "      <td>133358314.0</td>\n",
              "      <td>106223318.0</td>\n",
              "      <td>52730452.0</td>\n",
              "      <td>93217057.0</td>\n",
              "      <td>6496962.0</td>\n",
              "      <td>29260083.0</td>\n",
              "    </tr>\n",
              "    <tr>\n",
              "      <th>2011-12-30</th>\n",
              "      <td>274832439.0</td>\n",
              "      <td>677813483.0</td>\n",
              "      <td>304558918.0</td>\n",
              "      <td>56224739.0</td>\n",
              "      <td>120205121.0</td>\n",
              "      <td>208203836.0</td>\n",
              "      <td>84672956.0</td>\n",
              "      <td>287457292.0</td>\n",
              "      <td>573112075.0</td>\n",
              "      <td>315333832.0</td>\n",
              "      <td>24097340.0</td>\n",
              "      <td>1.061621e+09</td>\n",
              "      <td>242395113.0</td>\n",
              "      <td>243708945.0</td>\n",
              "      <td>104565875.0</td>\n",
              "      <td>36181207.0</td>\n",
              "      <td>552353487.0</td>\n",
              "      <td>329620755.0</td>\n",
              "      <td>1.216077e+09</td>\n",
              "      <td>679198853.0</td>\n",
              "      <td>46095855.0</td>\n",
              "      <td>260903101.0</td>\n",
              "      <td>117627735.0</td>\n",
              "      <td>22857135.0</td>\n",
              "      <td>82300853.0</td>\n",
              "      <td>144994182.0</td>\n",
              "      <td>138975540.0</td>\n",
              "      <td>337806002.0</td>\n",
              "      <td>108476559.0</td>\n",
              "      <td>272540434.0</td>\n",
              "      <td>385891896.0</td>\n",
              "      <td>101150117.0</td>\n",
              "      <td>203723583.0</td>\n",
              "      <td>122739850.0</td>\n",
              "      <td>80377855.0</td>\n",
              "      <td>150559218.0</td>\n",
              "      <td>62390930.0</td>\n",
              "      <td>309612443.0</td>\n",
              "      <td>161477685.0</td>\n",
              "      <td>369555458.0</td>\n",
              "      <td>...</td>\n",
              "      <td>21500850.0</td>\n",
              "      <td>9163002.0</td>\n",
              "      <td>135129296.0</td>\n",
              "      <td>NaN</td>\n",
              "      <td>26874067.0</td>\n",
              "      <td>30775816.0</td>\n",
              "      <td>12371457.0</td>\n",
              "      <td>103031168.0</td>\n",
              "      <td>92862889.0</td>\n",
              "      <td>23838197.0</td>\n",
              "      <td>27650720.0</td>\n",
              "      <td>20522651.0</td>\n",
              "      <td>38927218.0</td>\n",
              "      <td>52665623.0</td>\n",
              "      <td>13926977.0</td>\n",
              "      <td>36436543.0</td>\n",
              "      <td>5277936.0</td>\n",
              "      <td>4187873.0</td>\n",
              "      <td>24913193.0</td>\n",
              "      <td>37555287.0</td>\n",
              "      <td>43879363.0</td>\n",
              "      <td>3674186.0</td>\n",
              "      <td>35262474.0</td>\n",
              "      <td>80012934.0</td>\n",
              "      <td>115427887.0</td>\n",
              "      <td>3944497.0</td>\n",
              "      <td>6790611.0</td>\n",
              "      <td>3986282.0</td>\n",
              "      <td>582926176.0</td>\n",
              "      <td>1795864.0</td>\n",
              "      <td>2975167.0</td>\n",
              "      <td>5884554.0</td>\n",
              "      <td>7811962.0</td>\n",
              "      <td>6387932.0</td>\n",
              "      <td>133387803.0</td>\n",
              "      <td>113014789.0</td>\n",
              "      <td>52759281.0</td>\n",
              "      <td>69951774.0</td>\n",
              "      <td>6499557.0</td>\n",
              "      <td>29264755.0</td>\n",
              "    </tr>\n",
              "    <tr>\n",
              "      <th>2011-12-31</th>\n",
              "      <td>274953094.0</td>\n",
              "      <td>649524584.0</td>\n",
              "      <td>310544649.0</td>\n",
              "      <td>56236320.0</td>\n",
              "      <td>120265504.0</td>\n",
              "      <td>214832263.0</td>\n",
              "      <td>84717609.0</td>\n",
              "      <td>287525292.0</td>\n",
              "      <td>516800140.0</td>\n",
              "      <td>322187638.0</td>\n",
              "      <td>28929179.0</td>\n",
              "      <td>1.041383e+09</td>\n",
              "      <td>239704871.0</td>\n",
              "      <td>266460137.0</td>\n",
              "      <td>102732260.0</td>\n",
              "      <td>36195828.0</td>\n",
              "      <td>533139548.0</td>\n",
              "      <td>233899926.0</td>\n",
              "      <td>1.052585e+09</td>\n",
              "      <td>656864826.0</td>\n",
              "      <td>46111782.0</td>\n",
              "      <td>236923157.0</td>\n",
              "      <td>117680995.0</td>\n",
              "      <td>21792159.0</td>\n",
              "      <td>82323242.0</td>\n",
              "      <td>149244133.0</td>\n",
              "      <td>152955092.0</td>\n",
              "      <td>337056307.0</td>\n",
              "      <td>107689993.0</td>\n",
              "      <td>272638847.0</td>\n",
              "      <td>386261661.0</td>\n",
              "      <td>94653563.0</td>\n",
              "      <td>194400550.0</td>\n",
              "      <td>109839561.0</td>\n",
              "      <td>80403631.0</td>\n",
              "      <td>246941879.0</td>\n",
              "      <td>62418441.0</td>\n",
              "      <td>300752972.0</td>\n",
              "      <td>152541661.0</td>\n",
              "      <td>386293553.0</td>\n",
              "      <td>...</td>\n",
              "      <td>19097468.0</td>\n",
              "      <td>7168029.0</td>\n",
              "      <td>133684838.0</td>\n",
              "      <td>NaN</td>\n",
              "      <td>29427852.0</td>\n",
              "      <td>13994060.0</td>\n",
              "      <td>12370984.0</td>\n",
              "      <td>97288920.0</td>\n",
              "      <td>92878319.0</td>\n",
              "      <td>23847278.0</td>\n",
              "      <td>27126288.0</td>\n",
              "      <td>22987287.0</td>\n",
              "      <td>38941100.0</td>\n",
              "      <td>52953423.0</td>\n",
              "      <td>11375373.0</td>\n",
              "      <td>31234756.0</td>\n",
              "      <td>6788863.0</td>\n",
              "      <td>5629582.0</td>\n",
              "      <td>24911268.0</td>\n",
              "      <td>31376176.0</td>\n",
              "      <td>47013853.0</td>\n",
              "      <td>3222700.0</td>\n",
              "      <td>35271401.0</td>\n",
              "      <td>80024461.0</td>\n",
              "      <td>92462194.0</td>\n",
              "      <td>6276409.0</td>\n",
              "      <td>6792846.0</td>\n",
              "      <td>3988338.0</td>\n",
              "      <td>603971123.0</td>\n",
              "      <td>1793263.0</td>\n",
              "      <td>2976562.0</td>\n",
              "      <td>12204624.0</td>\n",
              "      <td>7811090.0</td>\n",
              "      <td>6388693.0</td>\n",
              "      <td>132724780.0</td>\n",
              "      <td>113046829.0</td>\n",
              "      <td>52785120.0</td>\n",
              "      <td>69981780.0</td>\n",
              "      <td>6505211.0</td>\n",
              "      <td>30047962.0</td>\n",
              "    </tr>\n",
              "  </tbody>\n",
              "</table>\n",
              "<p>365 rows × 1910 columns</p>\n",
              "</div>"
            ],
            "text/plain": [
              "                entries               ...    flowabs            \n",
              "station           1 AVE       103 ST  ...    YORK ST  ZEREGA AVE\n",
              "time                                  ...                       \n",
              "2011-01-01  232541330.0  557738613.0  ...  5695710.0  27613442.0\n",
              "2011-01-02  232624692.0  543010534.0  ...  5697011.0  27614199.0\n",
              "2011-01-03  232704316.0  575097801.0  ...  5695317.0  27617424.0\n",
              "2011-01-04  232830124.0  553525253.0  ...  5697425.0  27623311.0\n",
              "2011-01-05  256354593.0  557971456.0  ...  5700086.0  27226527.0\n",
              "...                 ...          ...  ...        ...         ...\n",
              "2011-12-27  274513935.0  630170941.0  ...  9907737.0  29250954.0\n",
              "2011-12-28  274606567.0  614582643.0  ...  6493850.0  29255370.0\n",
              "2011-12-29  274714891.0  625150640.0  ...  6496962.0  29260083.0\n",
              "2011-12-30  274832439.0  677813483.0  ...  6499557.0  29264755.0\n",
              "2011-12-31  274953094.0  649524584.0  ...  6505211.0  30047962.0\n",
              "\n",
              "[365 rows x 1910 columns]"
            ]
          },
          "metadata": {
            "tags": []
          },
          "execution_count": 49
        }
      ]
    },
    {
      "cell_type": "code",
      "metadata": {
        "id": "DekRDT0kIw1O"
      },
      "source": [
        "# As can be seen our data is highly correlated, so a simple data set with fewer dimension should be obtained"
      ],
      "execution_count": null,
      "outputs": []
    },
    {
      "cell_type": "code",
      "metadata": {
        "_uuid": "791d1f4d-3015-4582-9f90-6b1eec92a940",
        "_cell_guid": "f05e1231-259c-4af3-a394-91ee6efecec5",
        "trusted": true,
        "id": "fuw2uvl6yQv-",
        "colab": {
          "base_uri": "https://localhost:8080/"
        },
        "outputId": "0ad23365-6a4d-41c7-9a0a-74a1328ab154"
      },
      "source": [
        "\n",
        "from sklearn.decomposition import PCA\n",
        "from sklearn.impute import SimpleImputer\n",
        "my_imputer = SimpleImputer()\n",
        "data_with_imputed_values = my_imputer.fit_transform(station_day_sum.unstack(level=0))\n",
        "# Make an instance of the Model\n",
        "pca = PCA(.95)\n",
        "pca.fit(data_with_imputed_values)\n",
        "train_img = pca.transform(data_with_imputed_values)\n",
        "train_img.shape\n",
        "print(data_with_imputed_values.shape)\n",
        "print(train_img.shape)"
      ],
      "execution_count": 50,
      "outputs": [
        {
          "output_type": "stream",
          "text": [
            "(365, 1910)\n",
            "(365, 8)\n"
          ],
          "name": "stdout"
        }
      ]
    },
    {
      "cell_type": "code",
      "metadata": {
        "id": "L8QF8Qa-JJVi"
      },
      "source": [
        "# Thus, only 8 principal componentes explained more the 95% of the variance from the entire dataset.\n",
        "# Therefore only 4 columns of the PCA represent the entire variance of 1895 columns \n",
        "# This excess of correlation is detrimental to the generalization of the model, due to the multicollinearity effect "
      ],
      "execution_count": 51,
      "outputs": []
    },
    {
      "cell_type": "code",
      "metadata": {
        "_uuid": "6207bc5d-d92a-41d0-a7f6-6468321a63d4",
        "_cell_guid": "e474e3d8-71b6-4d14-89fa-f1948c9aa219",
        "trusted": true,
        "id": "2I8cxIB9yQv-",
        "colab": {
          "base_uri": "https://localhost:8080/"
        },
        "outputId": "70e2873b-1a6e-42bf-e204-9a79899eff91"
      },
      "source": [
        "correlations = station_day_sum.unstack(level=0).corr()\n",
        "print(correlations)"
      ],
      "execution_count": 52,
      "outputs": [
        {
          "output_type": "stream",
          "text": [
            "                          entries            ...   flowabs           \n",
            "station                     1 AVE    103 ST  ...   YORK ST ZEREGA AVE\n",
            "        station                              ...                     \n",
            "entries 1 AVE            1.000000 -0.026643  ... -0.075498  -0.118659\n",
            "        103 ST          -0.026643  1.000000  ...  0.254564   0.405906\n",
            "        103 ST-CORONA    0.146722 -0.075103  ... -0.041495  -0.154168\n",
            "        104 ST           0.114349 -0.058343  ... -0.074569  -0.150880\n",
            "        110 ST          -0.112663 -0.251160  ... -0.137220  -0.201657\n",
            "...                           ...       ...  ...       ...        ...\n",
            "flowabs WOODHAVEN BLVD  -0.178561  0.070425  ...  0.046436   0.225404\n",
            "        WOODLAWN ROAD    0.225348 -0.171883  ... -0.126907  -0.283095\n",
            "        WORLD TRADE CTR  0.189286 -0.058521  ... -0.075717  -0.138900\n",
            "        YORK ST         -0.075498  0.254564  ...  1.000000   0.223190\n",
            "        ZEREGA AVE      -0.118659  0.405906  ...  0.223190   1.000000\n",
            "\n",
            "[1910 rows x 1910 columns]\n"
          ],
          "name": "stdout"
        }
      ]
    },
    {
      "cell_type": "markdown",
      "metadata": {
        "id": "qjBCq9L6Egxq"
      },
      "source": [
        "# Local Exploratory data Analysis (EDA)"
      ]
    },
    {
      "cell_type": "code",
      "metadata": {
        "id": "yOdqnBbbKQP5"
      },
      "source": [
        "# The proposed model only uses one station, < the user can choose any>.\n",
        "# The model in a Long short-term memory, i.e a Recurrent articial neural networks\n",
        "# Since we are using time series data, this model should perform very well\n",
        "\n",
        "# Above we choose the 1AVE Station as the working example for the LSTM model"
      ],
      "execution_count": null,
      "outputs": []
    },
    {
      "cell_type": "markdown",
      "metadata": {
        "id": "MhVdGpCiKWRl"
      },
      "source": [
        "# Data sanization"
      ]
    },
    {
      "cell_type": "code",
      "metadata": {
        "_uuid": "6d76544d-8e51-462d-827f-f36415453623",
        "_cell_guid": "949c7da7-e424-4a7a-891a-8451ea1932e3",
        "trusted": true,
        "_kg_hide-input": true,
        "id": "o_Ujy5mJyQv_",
        "colab": {
          "base_uri": "https://localhost:8080/",
          "height": 450
        },
        "outputId": "860405a0-5cfd-4856-e926-cc8454a8bbce"
      },
      "source": [
        "# Data sanization\n",
        "# remove NAN or null\n",
        "data = station_day_sum.xs('1 AVE')\n",
        "data.fillna(0)"
      ],
      "execution_count": 53,
      "outputs": [
        {
          "output_type": "execute_result",
          "data": {
            "text/html": [
              "<div>\n",
              "<style scoped>\n",
              "    .dataframe tbody tr th:only-of-type {\n",
              "        vertical-align: middle;\n",
              "    }\n",
              "\n",
              "    .dataframe tbody tr th {\n",
              "        vertical-align: top;\n",
              "    }\n",
              "\n",
              "    .dataframe thead th {\n",
              "        text-align: right;\n",
              "    }\n",
              "</style>\n",
              "<table border=\"1\" class=\"dataframe\">\n",
              "  <thead>\n",
              "    <tr style=\"text-align: right;\">\n",
              "      <th></th>\n",
              "      <th>entries</th>\n",
              "      <th>exits</th>\n",
              "      <th>flowtotal</th>\n",
              "      <th>flowdelta</th>\n",
              "      <th>flowabs</th>\n",
              "    </tr>\n",
              "    <tr>\n",
              "      <th>time</th>\n",
              "      <th></th>\n",
              "      <th></th>\n",
              "      <th></th>\n",
              "      <th></th>\n",
              "      <th></th>\n",
              "    </tr>\n",
              "  </thead>\n",
              "  <tbody>\n",
              "    <tr>\n",
              "      <th>2011-01-01</th>\n",
              "      <td>232541330.0</td>\n",
              "      <td>199821272.0</td>\n",
              "      <td>432362602.0</td>\n",
              "      <td>32720058.0</td>\n",
              "      <td>32720058.0</td>\n",
              "    </tr>\n",
              "    <tr>\n",
              "      <th>2011-01-02</th>\n",
              "      <td>232624692.0</td>\n",
              "      <td>199914816.0</td>\n",
              "      <td>432539508.0</td>\n",
              "      <td>32709876.0</td>\n",
              "      <td>32709876.0</td>\n",
              "    </tr>\n",
              "    <tr>\n",
              "      <th>2011-01-03</th>\n",
              "      <td>232704316.0</td>\n",
              "      <td>200009509.0</td>\n",
              "      <td>432713825.0</td>\n",
              "      <td>32694807.0</td>\n",
              "      <td>32694807.0</td>\n",
              "    </tr>\n",
              "    <tr>\n",
              "      <th>2011-01-04</th>\n",
              "      <td>232830124.0</td>\n",
              "      <td>200151208.0</td>\n",
              "      <td>432981332.0</td>\n",
              "      <td>32678916.0</td>\n",
              "      <td>32678916.0</td>\n",
              "    </tr>\n",
              "    <tr>\n",
              "      <th>2011-01-05</th>\n",
              "      <td>256354593.0</td>\n",
              "      <td>214767796.0</td>\n",
              "      <td>471122389.0</td>\n",
              "      <td>41586797.0</td>\n",
              "      <td>41586797.0</td>\n",
              "    </tr>\n",
              "    <tr>\n",
              "      <th>...</th>\n",
              "      <td>...</td>\n",
              "      <td>...</td>\n",
              "      <td>...</td>\n",
              "      <td>...</td>\n",
              "      <td>...</td>\n",
              "    </tr>\n",
              "    <tr>\n",
              "      <th>2011-12-27</th>\n",
              "      <td>274513935.0</td>\n",
              "      <td>246108462.0</td>\n",
              "      <td>520622397.0</td>\n",
              "      <td>28405473.0</td>\n",
              "      <td>28405473.0</td>\n",
              "    </tr>\n",
              "    <tr>\n",
              "      <th>2011-12-28</th>\n",
              "      <td>274606567.0</td>\n",
              "      <td>246224684.0</td>\n",
              "      <td>520831251.0</td>\n",
              "      <td>28381883.0</td>\n",
              "      <td>28381883.0</td>\n",
              "    </tr>\n",
              "    <tr>\n",
              "      <th>2011-12-29</th>\n",
              "      <td>274714891.0</td>\n",
              "      <td>246352456.0</td>\n",
              "      <td>521067347.0</td>\n",
              "      <td>28362435.0</td>\n",
              "      <td>28362435.0</td>\n",
              "    </tr>\n",
              "    <tr>\n",
              "      <th>2011-12-30</th>\n",
              "      <td>274832439.0</td>\n",
              "      <td>246487373.0</td>\n",
              "      <td>521319812.0</td>\n",
              "      <td>28345066.0</td>\n",
              "      <td>28345066.0</td>\n",
              "    </tr>\n",
              "    <tr>\n",
              "      <th>2011-12-31</th>\n",
              "      <td>274953094.0</td>\n",
              "      <td>246623192.0</td>\n",
              "      <td>521576286.0</td>\n",
              "      <td>28329902.0</td>\n",
              "      <td>28329902.0</td>\n",
              "    </tr>\n",
              "  </tbody>\n",
              "</table>\n",
              "<p>365 rows × 5 columns</p>\n",
              "</div>"
            ],
            "text/plain": [
              "                entries        exits    flowtotal   flowdelta     flowabs\n",
              "time                                                                     \n",
              "2011-01-01  232541330.0  199821272.0  432362602.0  32720058.0  32720058.0\n",
              "2011-01-02  232624692.0  199914816.0  432539508.0  32709876.0  32709876.0\n",
              "2011-01-03  232704316.0  200009509.0  432713825.0  32694807.0  32694807.0\n",
              "2011-01-04  232830124.0  200151208.0  432981332.0  32678916.0  32678916.0\n",
              "2011-01-05  256354593.0  214767796.0  471122389.0  41586797.0  41586797.0\n",
              "...                 ...          ...          ...         ...         ...\n",
              "2011-12-27  274513935.0  246108462.0  520622397.0  28405473.0  28405473.0\n",
              "2011-12-28  274606567.0  246224684.0  520831251.0  28381883.0  28381883.0\n",
              "2011-12-29  274714891.0  246352456.0  521067347.0  28362435.0  28362435.0\n",
              "2011-12-30  274832439.0  246487373.0  521319812.0  28345066.0  28345066.0\n",
              "2011-12-31  274953094.0  246623192.0  521576286.0  28329902.0  28329902.0\n",
              "\n",
              "[365 rows x 5 columns]"
            ]
          },
          "metadata": {
            "tags": []
          },
          "execution_count": 53
        }
      ]
    },
    {
      "cell_type": "code",
      "metadata": {
        "_uuid": "e5d3f70e-0b1a-433f-be99-2d808eb8b0f6",
        "_cell_guid": "f86b22ef-a6fc-4319-a35b-668f7c21da25",
        "trusted": true,
        "id": "pggWv5iTyQv_",
        "colab": {
          "base_uri": "https://localhost:8080/",
          "height": 204
        },
        "outputId": "e08fd072-de4d-422e-a487-cb2f7a5ca704"
      },
      "source": [
        "data.describe().transpose()"
      ],
      "execution_count": 54,
      "outputs": [
        {
          "output_type": "execute_result",
          "data": {
            "text/html": [
              "<div>\n",
              "<style scoped>\n",
              "    .dataframe tbody tr th:only-of-type {\n",
              "        vertical-align: middle;\n",
              "    }\n",
              "\n",
              "    .dataframe tbody tr th {\n",
              "        vertical-align: top;\n",
              "    }\n",
              "\n",
              "    .dataframe thead th {\n",
              "        text-align: right;\n",
              "    }\n",
              "</style>\n",
              "<table border=\"1\" class=\"dataframe\">\n",
              "  <thead>\n",
              "    <tr style=\"text-align: right;\">\n",
              "      <th></th>\n",
              "      <th>count</th>\n",
              "      <th>mean</th>\n",
              "      <th>std</th>\n",
              "      <th>min</th>\n",
              "      <th>25%</th>\n",
              "      <th>50%</th>\n",
              "      <th>75%</th>\n",
              "      <th>max</th>\n",
              "    </tr>\n",
              "  </thead>\n",
              "  <tbody>\n",
              "    <tr>\n",
              "      <th>entries</th>\n",
              "      <td>365.0</td>\n",
              "      <td>2.813631e+08</td>\n",
              "      <td>4.347393e+07</td>\n",
              "      <td>208032290.0</td>\n",
              "      <td>257932296.0</td>\n",
              "      <td>273370992.0</td>\n",
              "      <td>289437998.0</td>\n",
              "      <td>5.893564e+08</td>\n",
              "    </tr>\n",
              "    <tr>\n",
              "      <th>exits</th>\n",
              "      <td>365.0</td>\n",
              "      <td>2.496476e+08</td>\n",
              "      <td>4.526574e+07</td>\n",
              "      <td>176498537.0</td>\n",
              "      <td>224182667.0</td>\n",
              "      <td>243235240.0</td>\n",
              "      <td>258437191.0</td>\n",
              "      <td>5.679855e+08</td>\n",
              "    </tr>\n",
              "    <tr>\n",
              "      <th>flowtotal</th>\n",
              "      <td>365.0</td>\n",
              "      <td>5.310107e+08</td>\n",
              "      <td>8.799443e+07</td>\n",
              "      <td>384530827.0</td>\n",
              "      <td>482875690.0</td>\n",
              "      <td>516586941.0</td>\n",
              "      <td>550457939.0</td>\n",
              "      <td>1.128986e+09</td>\n",
              "    </tr>\n",
              "    <tr>\n",
              "      <th>flowdelta</th>\n",
              "      <td>365.0</td>\n",
              "      <td>3.171549e+07</td>\n",
              "      <td>1.161556e+07</td>\n",
              "      <td>-61124393.0</td>\n",
              "      <td>28986798.0</td>\n",
              "      <td>32423033.0</td>\n",
              "      <td>35025601.0</td>\n",
              "      <td>1.141766e+08</td>\n",
              "    </tr>\n",
              "    <tr>\n",
              "      <th>flowabs</th>\n",
              "      <td>365.0</td>\n",
              "      <td>3.272917e+07</td>\n",
              "      <td>8.331589e+06</td>\n",
              "      <td>1957428.0</td>\n",
              "      <td>29517188.0</td>\n",
              "      <td>32440841.0</td>\n",
              "      <td>35058075.0</td>\n",
              "      <td>1.141766e+08</td>\n",
              "    </tr>\n",
              "  </tbody>\n",
              "</table>\n",
              "</div>"
            ],
            "text/plain": [
              "           count          mean  ...          75%           max\n",
              "entries    365.0  2.813631e+08  ...  289437998.0  5.893564e+08\n",
              "exits      365.0  2.496476e+08  ...  258437191.0  5.679855e+08\n",
              "flowtotal  365.0  5.310107e+08  ...  550457939.0  1.128986e+09\n",
              "flowdelta  365.0  3.171549e+07  ...   35025601.0  1.141766e+08\n",
              "flowabs    365.0  3.272917e+07  ...   35058075.0  1.141766e+08\n",
              "\n",
              "[5 rows x 8 columns]"
            ]
          },
          "metadata": {
            "tags": []
          },
          "execution_count": 54
        }
      ]
    },
    {
      "cell_type": "code",
      "metadata": {
        "trusted": true,
        "id": "udKfilh-yQwA",
        "colab": {
          "base_uri": "https://localhost:8080/",
          "height": 571
        },
        "outputId": "29fa48ec-a39c-42c0-a259-51e95f0c6445"
      },
      "source": [
        "data[['entries','exits','flowtotal','flowdelta','flowabs']].plot.box()\n",
        "\n",
        "data[['entries']].plot.hist(bins = 20, title = 'Entries Distribution')\n"
      ],
      "execution_count": 55,
      "outputs": [
        {
          "output_type": "execute_result",
          "data": {
            "text/plain": [
              "<matplotlib.axes._subplots.AxesSubplot at 0x7fef6f8b86d0>"
            ]
          },
          "metadata": {
            "tags": []
          },
          "execution_count": 55
        },
        {
          "output_type": "display_data",
          "data": {
            "image/png": "[encoded data removed]",
            "text/plain": [
              "<Figure size 432x288 with 1 Axes>"
            ]
          },
          "metadata": {
            "tags": []
          }
        },
        {
          "output_type": "display_data",
          "data": {
            "image/png": "[encoded data removed]",
            "text/plain": [
              "<Figure size 432x288 with 1 Axes>"
            ]
          },
          "metadata": {
            "tags": []
          }
        }
      ]
    },
    {
      "cell_type": "code",
      "metadata": {
        "_uuid": "78e983f5-7d4b-45c7-9dcc-eb24796af2e6",
        "_cell_guid": "42813489-5aee-4ca7-858b-ae5c83c831fc",
        "trusted": true,
        "id": "WJXTQNM6yQwA",
        "colab": {
          "base_uri": "https://localhost:8080/"
        },
        "outputId": "303b2cd9-7565-4127-a2a4-30caeb32f9c1"
      },
      "source": [
        "# print the head of the dataframe shape\n",
        "df = data\n",
        "df.shape"
      ],
      "execution_count": 57,
      "outputs": [
        {
          "output_type": "execute_result",
          "data": {
            "text/plain": [
              "(365, 5)"
            ]
          },
          "metadata": {
            "tags": []
          },
          "execution_count": 57
        }
      ]
    },
    {
      "cell_type": "markdown",
      "metadata": {
        "id": "YW14iVyzExIq"
      },
      "source": [
        "# Train and test data set setup "
      ]
    },
    {
      "cell_type": "code",
      "metadata": {
        "_uuid": "29af59bf-fc69-47ed-9f60-37c0ea55ce03",
        "_cell_guid": "91fcf253-577a-4182-a989-643f4f34a666",
        "trusted": true,
        "id": "y4qKrfKjyQwB",
        "colab": {
          "base_uri": "https://localhost:8080/",
          "height": 103
        },
        "outputId": "bc0dab4e-716a-4476-c840-7d2e7740d17e"
      },
      "source": [
        "# Original time series for the 'entries' data\n",
        "plt.figure(figsize=(50,4))\n",
        "plt.plot(range(len(df)),df['entries']);"
      ],
      "execution_count": 58,
      "outputs": [
        {
          "output_type": "display_data",
          "data": {
            "image/png": "[encoded data removed]",
            "text/plain": [
              "<Figure size 3600x288 with 1 Axes>"
            ]
          },
          "metadata": {
            "tags": []
          }
        }
      ]
    },
    {
      "cell_type": "code",
      "metadata": {
        "_uuid": "3a312db3-b569-4b81-9b99-c0a49654be4e",
        "_cell_guid": "1a056131-fd66-49fb-ae2d-21186af08807",
        "trusted": true,
        "id": "BN99S0XkyQwB",
        "colab": {
          "base_uri": "https://localhost:8080/",
          "height": 103
        },
        "outputId": "0ada3143-7e47-4954-a719-36e89b033652"
      },
      "source": [
        "# Original time series for the 'entries' data\n",
        "plt.figure(figsize=(50,4))\n",
        "plt.plot(range(len(df)),df['exits']);"
      ],
      "execution_count": 59,
      "outputs": [
        {
          "output_type": "display_data",
          "data": {
            "image/png": "[encoded data removed]",
            "text/plain": [
              "<Figure size 3600x288 with 1 Axes>"
            ]
          },
          "metadata": {
            "tags": []
          }
        }
      ]
    },
    {
      "cell_type": "markdown",
      "metadata": {
        "id": "IzcoZCzTKwTv"
      },
      "source": [
        "# Slipting the train a test dataset"
      ]
    },
    {
      "cell_type": "code",
      "metadata": {
        "_uuid": "01181b8f-9914-4750-8d7a-cc4045d4ed62",
        "_cell_guid": "f51891ee-ea0d-44fe-b66d-485dbcdc6c6c",
        "trusted": true,
        "id": "gfAVd6wHyQwB",
        "colab": {
          "base_uri": "https://localhost:8080/"
        },
        "outputId": "eae5acee-96cf-47f7-aee9-5a1560b6471c"
      },
      "source": [
        "test_size = int(len(df) * 0.3) # here I ask that the test data will be 30% (0.3) of the entire data\n",
        "train = df.iloc[:-test_size,:].copy() # the copy() here is important, it will prevent us from getting: SettingWithCopyWarning: A value is trying to be set on a copy of a slice from a DataFrame.\n",
        "# Try using .loc[row_index,col_indexer] = value instead\n",
        "test = df.iloc[-test_size:,:].copy()\n",
        "train.shape, test.shape"
      ],
      "execution_count": 60,
      "outputs": [
        {
          "output_type": "execute_result",
          "data": {
            "text/plain": [
              "((256, 5), (109, 5))"
            ]
          },
          "metadata": {
            "tags": []
          },
          "execution_count": 60
        }
      ]
    },
    {
      "cell_type": "code",
      "metadata": {
        "_uuid": "13f30537-c722-431e-819b-6025f65b5cc1",
        "_cell_guid": "41c17704-c4f2-4b4d-a112-d15671dab799",
        "trusted": true,
        "id": "r6meqDO0yQwC",
        "colab": {
          "base_uri": "https://localhost:8080/",
          "height": 103
        },
        "outputId": "7b5e5df8-35e8-437b-e883-57cd81d5a184"
      },
      "source": [
        "plt.figure(figsize=(50,4))\n",
        "plt.plot(train.index,train['entries'],label='Train');\n",
        "plt.plot(test.index,test['entries'],label='test')\n",
        "plt.legend();"
      ],
      "execution_count": 61,
      "outputs": [
        {
          "output_type": "display_data",
          "data": {
            "image/png": "[encoded data removed]",
            "text/plain": [
              "<Figure size 3600x288 with 1 Axes>"
            ]
          },
          "metadata": {
            "tags": []
          }
        }
      ]
    },
    {
      "cell_type": "code",
      "metadata": {
        "_uuid": "ec19b6c6-b6c3-41cf-85ff-d17ffc9503f4",
        "_cell_guid": "a0e1be4c-5d84-4aa5-8da9-b8bdc767e68a",
        "trusted": true,
        "id": "tA9W60ziyQwC",
        "colab": {
          "base_uri": "https://localhost:8080/",
          "height": 103
        },
        "outputId": "80980616-bc34-480e-8a81-b44cc6ac1794"
      },
      "source": [
        "plt.figure(figsize=(50,4))\n",
        "plt.plot(train.index,train['exits'],label='Train');\n",
        "plt.plot(test.index,test['exits'],label='test')\n",
        "plt.legend();"
      ],
      "execution_count": 62,
      "outputs": [
        {
          "output_type": "display_data",
          "data": {
            "image/png": "[encoded data removed]",
            "text/plain": [
              "<Figure size 3600x288 with 1 Axes>"
            ]
          },
          "metadata": {
            "tags": []
          }
        }
      ]
    },
    {
      "cell_type": "code",
      "metadata": {
        "_uuid": "a82eed28-05f7-4317-bb5a-df861ad98a4a",
        "_cell_guid": "5250e3b1-fde8-4c70-b9f1-4601d642dbed",
        "trusted": true,
        "id": "MII1Rv76yQwC",
        "colab": {
          "base_uri": "https://localhost:8080/"
        },
        "outputId": "a36990fa-a31b-4d22-866e-0afe2d80377a"
      },
      "source": [
        "#seperate X and y only for the train data (for now)\n",
        "X_train = train.drop(['entries','exits'],axis=1).copy()\n",
        "y_train = train[['entries','exits']].copy() # the double brakets here are to keep the y in dataframe format, otherwise it will be pandas Series\n",
        "print(X_train.shape, y_train.shape)"
      ],
      "execution_count": 63,
      "outputs": [
        {
          "output_type": "stream",
          "text": [
            "(256, 3) (256, 2)\n"
          ],
          "name": "stdout"
        }
      ]
    },
    {
      "cell_type": "markdown",
      "metadata": {
        "id": "TL4YLPafMI7S"
      },
      "source": [
        "# Model description\n"
      ]
    },
    {
      "cell_type": "code",
      "metadata": {
        "id": "FXI2etYcNVgV"
      },
      "source": [
        "# The model takes the \"n\" past data for each one of the input variables (X)\n",
        "# The model is: [y1 y2] = LSTM(X1 X2 X3 )n\n",
        "# where y1 = entries and y2 = exits are the predtive variables\n",
        "# x1 x2 x3 are respectively: flowtotal  flowdelta flowabs\n",
        "# where \"n\" indicate \"n\" past data as for each one og the input variables\n",
        "# Following it is shown the these variables."
      ],
      "execution_count": null,
      "outputs": []
    },
    {
      "cell_type": "code",
      "metadata": {
        "_uuid": "6f607404-18cc-4a98-89db-696caa1f55f4",
        "_cell_guid": "d558c8dd-cd1e-413b-bd95-98c8e776ec3c",
        "trusted": true,
        "id": "mj7YtQG6yQwD",
        "colab": {
          "base_uri": "https://localhost:8080/",
          "height": 235
        },
        "outputId": "fbe7c67a-c0d4-4fe7-f2a8-296241e6127d"
      },
      "source": [
        "X_train.head()"
      ],
      "execution_count": 64,
      "outputs": [
        {
          "output_type": "execute_result",
          "data": {
            "text/html": [
              "<div>\n",
              "<style scoped>\n",
              "    .dataframe tbody tr th:only-of-type {\n",
              "        vertical-align: middle;\n",
              "    }\n",
              "\n",
              "    .dataframe tbody tr th {\n",
              "        vertical-align: top;\n",
              "    }\n",
              "\n",
              "    .dataframe thead th {\n",
              "        text-align: right;\n",
              "    }\n",
              "</style>\n",
              "<table border=\"1\" class=\"dataframe\">\n",
              "  <thead>\n",
              "    <tr style=\"text-align: right;\">\n",
              "      <th></th>\n",
              "      <th>flowtotal</th>\n",
              "      <th>flowdelta</th>\n",
              "      <th>flowabs</th>\n",
              "    </tr>\n",
              "    <tr>\n",
              "      <th>time</th>\n",
              "      <th></th>\n",
              "      <th></th>\n",
              "      <th></th>\n",
              "    </tr>\n",
              "  </thead>\n",
              "  <tbody>\n",
              "    <tr>\n",
              "      <th>2011-01-01</th>\n",
              "      <td>432362602.0</td>\n",
              "      <td>32720058.0</td>\n",
              "      <td>32720058.0</td>\n",
              "    </tr>\n",
              "    <tr>\n",
              "      <th>2011-01-02</th>\n",
              "      <td>432539508.0</td>\n",
              "      <td>32709876.0</td>\n",
              "      <td>32709876.0</td>\n",
              "    </tr>\n",
              "    <tr>\n",
              "      <th>2011-01-03</th>\n",
              "      <td>432713825.0</td>\n",
              "      <td>32694807.0</td>\n",
              "      <td>32694807.0</td>\n",
              "    </tr>\n",
              "    <tr>\n",
              "      <th>2011-01-04</th>\n",
              "      <td>432981332.0</td>\n",
              "      <td>32678916.0</td>\n",
              "      <td>32678916.0</td>\n",
              "    </tr>\n",
              "    <tr>\n",
              "      <th>2011-01-05</th>\n",
              "      <td>471122389.0</td>\n",
              "      <td>41586797.0</td>\n",
              "      <td>41586797.0</td>\n",
              "    </tr>\n",
              "  </tbody>\n",
              "</table>\n",
              "</div>"
            ],
            "text/plain": [
              "              flowtotal   flowdelta     flowabs\n",
              "time                                           \n",
              "2011-01-01  432362602.0  32720058.0  32720058.0\n",
              "2011-01-02  432539508.0  32709876.0  32709876.0\n",
              "2011-01-03  432713825.0  32694807.0  32694807.0\n",
              "2011-01-04  432981332.0  32678916.0  32678916.0\n",
              "2011-01-05  471122389.0  41586797.0  41586797.0"
            ]
          },
          "metadata": {
            "tags": []
          },
          "execution_count": 64
        }
      ]
    },
    {
      "cell_type": "code",
      "metadata": {
        "_uuid": "96974f36-5a28-4474-81be-86329260fb52",
        "_cell_guid": "9ce9f147-e111-499f-829d-167af55c2c7e",
        "trusted": true,
        "id": "ORUQjjhtyQwD",
        "colab": {
          "base_uri": "https://localhost:8080/",
          "height": 235
        },
        "outputId": "76abb518-0931-401c-9192-8d71bcadb1b1"
      },
      "source": [
        "y_train.head()"
      ],
      "execution_count": 65,
      "outputs": [
        {
          "output_type": "execute_result",
          "data": {
            "text/html": [
              "<div>\n",
              "<style scoped>\n",
              "    .dataframe tbody tr th:only-of-type {\n",
              "        vertical-align: middle;\n",
              "    }\n",
              "\n",
              "    .dataframe tbody tr th {\n",
              "        vertical-align: top;\n",
              "    }\n",
              "\n",
              "    .dataframe thead th {\n",
              "        text-align: right;\n",
              "    }\n",
              "</style>\n",
              "<table border=\"1\" class=\"dataframe\">\n",
              "  <thead>\n",
              "    <tr style=\"text-align: right;\">\n",
              "      <th></th>\n",
              "      <th>entries</th>\n",
              "      <th>exits</th>\n",
              "    </tr>\n",
              "    <tr>\n",
              "      <th>time</th>\n",
              "      <th></th>\n",
              "      <th></th>\n",
              "    </tr>\n",
              "  </thead>\n",
              "  <tbody>\n",
              "    <tr>\n",
              "      <th>2011-01-01</th>\n",
              "      <td>232541330.0</td>\n",
              "      <td>199821272.0</td>\n",
              "    </tr>\n",
              "    <tr>\n",
              "      <th>2011-01-02</th>\n",
              "      <td>232624692.0</td>\n",
              "      <td>199914816.0</td>\n",
              "    </tr>\n",
              "    <tr>\n",
              "      <th>2011-01-03</th>\n",
              "      <td>232704316.0</td>\n",
              "      <td>200009509.0</td>\n",
              "    </tr>\n",
              "    <tr>\n",
              "      <th>2011-01-04</th>\n",
              "      <td>232830124.0</td>\n",
              "      <td>200151208.0</td>\n",
              "    </tr>\n",
              "    <tr>\n",
              "      <th>2011-01-05</th>\n",
              "      <td>256354593.0</td>\n",
              "      <td>214767796.0</td>\n",
              "    </tr>\n",
              "  </tbody>\n",
              "</table>\n",
              "</div>"
            ],
            "text/plain": [
              "                entries        exits\n",
              "time                                \n",
              "2011-01-01  232541330.0  199821272.0\n",
              "2011-01-02  232624692.0  199914816.0\n",
              "2011-01-03  232704316.0  200009509.0\n",
              "2011-01-04  232830124.0  200151208.0\n",
              "2011-01-05  256354593.0  214767796.0"
            ]
          },
          "metadata": {
            "tags": []
          },
          "execution_count": 65
        }
      ]
    },
    {
      "cell_type": "markdown",
      "metadata": {
        "id": "3I_7bVxNN-n1"
      },
      "source": [
        "# Scaling the train and test data\n"
      ]
    },
    {
      "cell_type": "code",
      "metadata": {
        "_uuid": "b09d1032-2e48-4674-a290-4b3e4b8c74f1",
        "_cell_guid": "1d727e99-c89a-44a3-87f3-ed284b4f7ae3",
        "trusted": true,
        "id": "dN-faI5-yQwD",
        "colab": {
          "base_uri": "https://localhost:8080/"
        },
        "outputId": "90933677-87dc-49a7-f56d-217c212aa2db"
      },
      "source": [
        "# Scaling the train data \n",
        "# scale X and y train using sklearn MinMaxScaler model\n",
        "Xscaler = MinMaxScaler(feature_range=(0, 1)) # scale so that all the data will range from 0 to 1\n",
        "Xscaler.fit(X_train)\n",
        "scaled_X_train = Xscaler.transform(X_train)\n",
        "print(X_train.shape)\n",
        "Yscaler = MinMaxScaler(feature_range=(0, 1))\n",
        "Yscaler.fit(y_train)\n",
        "scaled_y_train = Yscaler.transform(y_train)\n",
        "print(scaled_y_train.shape)\n",
        "print(scaled_y_train.shape)\n"
      ],
      "execution_count": 66,
      "outputs": [
        {
          "output_type": "stream",
          "text": [
            "(256, 3)\n",
            "(256, 2)\n",
            "(256, 2)\n"
          ],
          "name": "stdout"
        }
      ]
    },
    {
      "cell_type": "code",
      "metadata": {
        "_uuid": "3f9c4bf2-51f5-4d05-941d-c5a78a858c9c",
        "_cell_guid": "6017c468-03a3-4ed0-a424-5e3bd33871e5",
        "trusted": true,
        "id": "vKYifBoxyQwE",
        "colab": {
          "base_uri": "https://localhost:8080/"
        },
        "outputId": "c16bf023-4343-422e-a3ed-4d6830215661"
      },
      "source": [
        "# Scaling the test data \n",
        "X_test = test.drop(['entries','exits'],axis=1).copy()\n",
        "scaled_X_test = Xscaler.transform(X_test)\n",
        "print(X_test.shape)"
      ],
      "execution_count": 68,
      "outputs": [
        {
          "output_type": "stream",
          "text": [
            "(109, 3)\n"
          ],
          "name": "stdout"
        }
      ]
    },
    {
      "cell_type": "markdown",
      "metadata": {
        "id": "3vs6FomQFTyc"
      },
      "source": [
        "## Using the time series generator to facilite the configuration of the training and test datasets into the shape of the baches "
      ]
    },
    {
      "cell_type": "code",
      "metadata": {
        "_uuid": "417a003e-5ba7-4313-b01e-881019e0aade",
        "_cell_guid": "840127c2-5e76-43ce-be68-7c38c35b94ea",
        "trusted": true,
        "id": "hAcJyABxyQwF"
      },
      "source": [
        "n_input = 10 #how many samples/rows/timesteps to look in the past in order to forecast the next sample\n",
        "n_features= X_train.shape[1] # how many predictors/Xs/features we have to predict y\n",
        "b_size = X_test.shape[0] - n_input\n",
        "generator = TimeseriesGenerator(scaled_X_train, scaled_y_train, length=n_input, batch_size=b_size)\n",
        "test_generator = TimeseriesGenerator(scaled_X_test, np.zeros(len(X_test)), length=n_input, batch_size=b_size)\n",
        "\n",
        "# The batch size must be equal to the size of the X test - n_input\n",
        "# because if we are using n_input from the past the test data must use n_input to predict the first point"
      ],
      "execution_count": 69,
      "outputs": []
    },
    {
      "cell_type": "code",
      "metadata": {
        "_uuid": "71d99703-2991-46a7-9b5c-5436d30ede5e",
        "_cell_guid": "6bb89235-f7d3-4f51-9b77-c6a1b8608e14",
        "trusted": true,
        "id": "FuhhVGeUyQwF",
        "colab": {
          "base_uri": "https://localhost:8080/"
        },
        "outputId": "f8800c30-0f84-4807-8d0d-e9a4a66803f1"
      },
      "source": [
        "# check that the generator is ok, its shape should be (batch_size,n_input,n_features)\n",
        "generator[0][0].shape\n",
        "\n",
        "# It is ok if generator[0][0].shape = b_size\n",
        "b_size == generator[0][0].shape[0]"
      ],
      "execution_count": 70,
      "outputs": [
        {
          "output_type": "execute_result",
          "data": {
            "text/plain": [
              "True"
            ]
          },
          "metadata": {
            "tags": []
          },
          "execution_count": 70
        }
      ]
    },
    {
      "cell_type": "markdown",
      "metadata": {
        "id": "XLj4n9CUFvn4"
      },
      "source": [
        "## Creating the LSTM model "
      ]
    },
    {
      "cell_type": "code",
      "metadata": {
        "_uuid": "3bad4ab4-7833-4f15-acee-baa38b154bb7",
        "_cell_guid": "ec6a2c97-96d1-46d5-b338-0a2eecd2532d",
        "trusted": true,
        "id": "CzTy_I2iyQwG",
        "colab": {
          "base_uri": "https://localhost:8080/"
        },
        "outputId": "3bef6821-6a8c-474b-ad8a-795fc2493d2c"
      },
      "source": [
        "model = Sequential()\n",
        "model.add(LSTM(100,activation='relu',input_shape=(n_input,n_features),return_sequences=True))\n",
        "model.add(LSTM(50,activation='relu',return_sequences=True))\n",
        "model.add(LSTM(10,activation='relu'))\n",
        "model.add(Dense(2))\n",
        "model.compile(optimizer='adam', loss='mse')\n",
        "model.summary()"
      ],
      "execution_count": 71,
      "outputs": [
        {
          "output_type": "stream",
          "text": [
            "Model: \"sequential\"\n",
            "_________________________________________________________________\n",
            "Layer (type)                 Output Shape              Param #   \n",
            "=================================================================\n",
            "lstm (LSTM)                  (None, 10, 100)           41600     \n",
            "_________________________________________________________________\n",
            "lstm_1 (LSTM)                (None, 10, 50)            30200     \n",
            "_________________________________________________________________\n",
            "lstm_2 (LSTM)                (None, 10)                2440      \n",
            "_________________________________________________________________\n",
            "dense (Dense)                (None, 2)                 22        \n",
            "=================================================================\n",
            "Total params: 74,262\n",
            "Trainable params: 74,262\n",
            "Non-trainable params: 0\n",
            "_________________________________________________________________\n"
          ],
          "name": "stdout"
        }
      ]
    },
    {
      "cell_type": "markdown",
      "metadata": {
        "id": "jOd1773kF2Ra"
      },
      "source": [
        "## Traing the LSTM model "
      ]
    },
    {
      "cell_type": "code",
      "metadata": {
        "_uuid": "a371425d-c779-4b6e-a5da-9fee2b6bcba2",
        "_cell_guid": "addda5db-78ee-48b2-a842-2187ae9f42b4",
        "trusted": true,
        "id": "EGXWxmbTyQwG",
        "colab": {
          "base_uri": "https://localhost:8080/"
        },
        "outputId": "0d584111-92fa-4125-9a2e-10a6fc7e2df8"
      },
      "source": [
        "num_epochs = 100\n",
        "model.fit_generator(generator,epochs=num_epochs)"
      ],
      "execution_count": 80,
      "outputs": [
        {
          "output_type": "stream",
          "text": [
            "Epoch 1/100\n",
            "3/3 [==============================] - 0s 28ms/step - loss: 0.0125\n"
          ],
          "name": "stdout"
        },
        {
          "output_type": "stream",
          "text": [
            "/usr/local/lib/python3.7/dist-packages/tensorflow/python/keras/engine/training.py:1844: UserWarning: `Model.fit_generator` is deprecated and will be removed in a future version. Please use `Model.fit`, which supports generators.\n",
            "  warnings.warn('`Model.fit_generator` is deprecated and '\n"
          ],
          "name": "stderr"
        },
        {
          "output_type": "stream",
          "text": [
            "Epoch 2/100\n",
            "3/3 [==============================] - 0s 28ms/step - loss: 0.0125\n",
            "Epoch 3/100\n",
            "3/3 [==============================] - 0s 34ms/step - loss: 0.0126\n",
            "Epoch 4/100\n",
            "3/3 [==============================] - 0s 30ms/step - loss: 0.0126\n",
            "Epoch 5/100\n",
            "3/3 [==============================] - 0s 29ms/step - loss: 0.0124\n",
            "Epoch 6/100\n",
            "3/3 [==============================] - 0s 37ms/step - loss: 0.0124\n",
            "Epoch 7/100\n",
            "3/3 [==============================] - 0s 28ms/step - loss: 0.0124\n",
            "Epoch 8/100\n",
            "3/3 [==============================] - 0s 28ms/step - loss: 0.0124\n",
            "Epoch 9/100\n",
            "3/3 [==============================] - 0s 29ms/step - loss: 0.0123\n",
            "Epoch 10/100\n",
            "3/3 [==============================] - 0s 27ms/step - loss: 0.0124\n",
            "Epoch 11/100\n",
            "3/3 [==============================] - 0s 27ms/step - loss: 0.0123\n",
            "Epoch 12/100\n",
            "3/3 [==============================] - 0s 33ms/step - loss: 0.0123\n",
            "Epoch 13/100\n",
            "3/3 [==============================] - 0s 36ms/step - loss: 0.0123\n",
            "Epoch 14/100\n",
            "3/3 [==============================] - 0s 31ms/step - loss: 0.0122\n",
            "Epoch 15/100\n",
            "3/3 [==============================] - 0s 33ms/step - loss: 0.0123\n",
            "Epoch 16/100\n",
            "3/3 [==============================] - 0s 27ms/step - loss: 0.0122\n",
            "Epoch 17/100\n",
            "3/3 [==============================] - 0s 34ms/step - loss: 0.0122\n",
            "Epoch 18/100\n",
            "3/3 [==============================] - 0s 26ms/step - loss: 0.0123\n",
            "Epoch 19/100\n",
            "3/3 [==============================] - 0s 27ms/step - loss: 0.0121\n",
            "Epoch 20/100\n",
            "3/3 [==============================] - 0s 33ms/step - loss: 0.0121\n",
            "Epoch 21/100\n",
            "3/3 [==============================] - 0s 29ms/step - loss: 0.0121\n",
            "Epoch 22/100\n",
            "3/3 [==============================] - 0s 35ms/step - loss: 0.0121\n",
            "Epoch 23/100\n",
            "3/3 [==============================] - 0s 37ms/step - loss: 0.0120\n",
            "Epoch 24/100\n",
            "3/3 [==============================] - 0s 26ms/step - loss: 0.0120\n",
            "Epoch 25/100\n",
            "3/3 [==============================] - 0s 31ms/step - loss: 0.0120\n",
            "Epoch 26/100\n",
            "3/3 [==============================] - 0s 27ms/step - loss: 0.0119\n",
            "Epoch 27/100\n",
            "3/3 [==============================] - 0s 29ms/step - loss: 0.0118\n",
            "Epoch 28/100\n",
            "3/3 [==============================] - 0s 28ms/step - loss: 0.0118\n",
            "Epoch 29/100\n",
            "3/3 [==============================] - 0s 27ms/step - loss: 0.0118\n",
            "Epoch 30/100\n",
            "3/3 [==============================] - 0s 27ms/step - loss: 0.0117\n",
            "Epoch 31/100\n",
            "3/3 [==============================] - 0s 28ms/step - loss: 0.0116\n",
            "Epoch 32/100\n",
            "3/3 [==============================] - 0s 37ms/step - loss: 0.0116\n",
            "Epoch 33/100\n",
            "3/3 [==============================] - 0s 33ms/step - loss: 0.0115\n",
            "Epoch 34/100\n",
            "3/3 [==============================] - 0s 27ms/step - loss: 0.0115\n",
            "Epoch 35/100\n",
            "3/3 [==============================] - 0s 28ms/step - loss: 0.0114\n",
            "Epoch 36/100\n",
            "3/3 [==============================] - 0s 27ms/step - loss: 0.0114\n",
            "Epoch 37/100\n",
            "3/3 [==============================] - 0s 28ms/step - loss: 0.0113\n",
            "Epoch 38/100\n",
            "3/3 [==============================] - 0s 28ms/step - loss: 0.0112\n",
            "Epoch 39/100\n",
            "3/3 [==============================] - 0s 32ms/step - loss: 0.0112\n",
            "Epoch 40/100\n",
            "3/3 [==============================] - 0s 28ms/step - loss: 0.0110\n",
            "Epoch 41/100\n",
            "3/3 [==============================] - 0s 37ms/step - loss: 0.0114\n",
            "Epoch 42/100\n",
            "3/3 [==============================] - 0s 28ms/step - loss: 0.0112\n",
            "Epoch 43/100\n",
            "3/3 [==============================] - 0s 30ms/step - loss: 0.0111\n",
            "Epoch 44/100\n",
            "3/3 [==============================] - 0s 32ms/step - loss: 0.0113\n",
            "Epoch 45/100\n",
            "3/3 [==============================] - 0s 31ms/step - loss: 0.0111\n",
            "Epoch 46/100\n",
            "3/3 [==============================] - 0s 33ms/step - loss: 0.0111\n",
            "Epoch 47/100\n",
            "3/3 [==============================] - 0s 29ms/step - loss: 0.0109\n",
            "Epoch 48/100\n",
            "3/3 [==============================] - 0s 27ms/step - loss: 0.0109\n",
            "Epoch 49/100\n",
            "3/3 [==============================] - 0s 35ms/step - loss: 0.0107\n",
            "Epoch 50/100\n",
            "3/3 [==============================] - 0s 27ms/step - loss: 0.0106\n",
            "Epoch 51/100\n",
            "3/3 [==============================] - 0s 27ms/step - loss: 0.0105\n",
            "Epoch 52/100\n",
            "3/3 [==============================] - 0s 25ms/step - loss: 0.0104\n",
            "Epoch 53/100\n",
            "3/3 [==============================] - 0s 33ms/step - loss: 0.0102\n",
            "Epoch 54/100\n",
            "3/3 [==============================] - 0s 27ms/step - loss: 0.0101\n",
            "Epoch 55/100\n",
            "3/3 [==============================] - 0s 31ms/step - loss: 0.0099\n",
            "Epoch 56/100\n",
            "3/3 [==============================] - 0s 27ms/step - loss: 0.0098\n",
            "Epoch 57/100\n",
            "3/3 [==============================] - 0s 27ms/step - loss: 0.0098\n",
            "Epoch 58/100\n",
            "3/3 [==============================] - 0s 32ms/step - loss: 0.0098\n",
            "Epoch 59/100\n",
            "3/3 [==============================] - 0s 35ms/step - loss: 0.0098\n",
            "Epoch 60/100\n",
            "3/3 [==============================] - 0s 36ms/step - loss: 0.0097\n",
            "Epoch 61/100\n",
            "3/3 [==============================] - 0s 31ms/step - loss: 0.0096\n",
            "Epoch 62/100\n",
            "3/3 [==============================] - 0s 34ms/step - loss: 0.0095\n",
            "Epoch 63/100\n",
            "3/3 [==============================] - 0s 26ms/step - loss: 0.0095\n",
            "Epoch 64/100\n",
            "3/3 [==============================] - 0s 31ms/step - loss: 0.0094\n",
            "Epoch 65/100\n",
            "3/3 [==============================] - 0s 27ms/step - loss: 0.0095\n",
            "Epoch 66/100\n",
            "3/3 [==============================] - 0s 27ms/step - loss: 0.0094\n",
            "Epoch 67/100\n",
            "3/3 [==============================] - 0s 27ms/step - loss: 0.0094\n",
            "Epoch 68/100\n",
            "3/3 [==============================] - 0s 32ms/step - loss: 0.0094\n",
            "Epoch 69/100\n",
            "3/3 [==============================] - 0s 34ms/step - loss: 0.0094\n",
            "Epoch 70/100\n",
            "3/3 [==============================] - 0s 27ms/step - loss: 0.0094\n",
            "Epoch 71/100\n",
            "3/3 [==============================] - 0s 32ms/step - loss: 0.0094\n",
            "Epoch 72/100\n",
            "3/3 [==============================] - 0s 28ms/step - loss: 0.0092\n",
            "Epoch 73/100\n",
            "3/3 [==============================] - 0s 28ms/step - loss: 0.0093\n",
            "Epoch 74/100\n",
            "3/3 [==============================] - 0s 27ms/step - loss: 0.0095\n",
            "Epoch 75/100\n",
            "3/3 [==============================] - 0s 27ms/step - loss: 0.0092\n",
            "Epoch 76/100\n",
            "3/3 [==============================] - 0s 27ms/step - loss: 0.0092\n",
            "Epoch 77/100\n",
            "3/3 [==============================] - 0s 32ms/step - loss: 0.0096\n",
            "Epoch 78/100\n",
            "3/3 [==============================] - 0s 27ms/step - loss: 0.0092\n",
            "Epoch 79/100\n",
            "3/3 [==============================] - 0s 32ms/step - loss: 0.0092\n",
            "Epoch 80/100\n",
            "3/3 [==============================] - 0s 28ms/step - loss: 0.0090\n",
            "Epoch 81/100\n",
            "3/3 [==============================] - 0s 31ms/step - loss: 0.0091\n",
            "Epoch 82/100\n",
            "3/3 [==============================] - 0s 30ms/step - loss: 0.0090\n",
            "Epoch 83/100\n",
            "3/3 [==============================] - 0s 27ms/step - loss: 0.0090\n",
            "Epoch 84/100\n",
            "3/3 [==============================] - 0s 27ms/step - loss: 0.0091\n",
            "Epoch 85/100\n",
            "3/3 [==============================] - 0s 30ms/step - loss: 0.0090\n",
            "Epoch 86/100\n",
            "3/3 [==============================] - 0s 27ms/step - loss: 0.0099\n",
            "Epoch 87/100\n",
            "3/3 [==============================] - 0s 32ms/step - loss: 0.0093\n",
            "Epoch 88/100\n",
            "3/3 [==============================] - 0s 29ms/step - loss: 0.0092\n",
            "Epoch 89/100\n",
            "3/3 [==============================] - 0s 34ms/step - loss: 0.0090\n",
            "Epoch 90/100\n",
            "3/3 [==============================] - 0s 33ms/step - loss: 0.0089\n",
            "Epoch 91/100\n",
            "3/3 [==============================] - 0s 27ms/step - loss: 0.0089\n",
            "Epoch 92/100\n",
            "3/3 [==============================] - 0s 29ms/step - loss: 0.0089\n",
            "Epoch 93/100\n",
            "3/3 [==============================] - 0s 27ms/step - loss: 0.0089\n",
            "Epoch 94/100\n",
            "3/3 [==============================] - 0s 38ms/step - loss: 0.0088\n",
            "Epoch 95/100\n",
            "3/3 [==============================] - 0s 27ms/step - loss: 0.0088\n",
            "Epoch 96/100\n",
            "3/3 [==============================] - 0s 28ms/step - loss: 0.0088\n",
            "Epoch 97/100\n",
            "3/3 [==============================] - 0s 35ms/step - loss: 0.0087\n",
            "Epoch 98/100\n",
            "3/3 [==============================] - 0s 39ms/step - loss: 0.0088\n",
            "Epoch 99/100\n",
            "3/3 [==============================] - 0s 37ms/step - loss: 0.0087\n",
            "Epoch 100/100\n",
            "3/3 [==============================] - 0s 33ms/step - loss: 0.0087\n"
          ],
          "name": "stdout"
        },
        {
          "output_type": "execute_result",
          "data": {
            "text/plain": [
              "<tensorflow.python.keras.callbacks.History at 0x7fef6ff68b10>"
            ]
          },
          "metadata": {
            "tags": []
          },
          "execution_count": 80
        }
      ]
    },
    {
      "cell_type": "code",
      "metadata": {
        "_uuid": "467d9465-59de-49f1-b90d-56b7a0a1eb33",
        "_cell_guid": "a891795d-b0cf-4b55-be3a-1e923d37a37e",
        "trusted": true,
        "id": "9N_tBecxyQwG",
        "colab": {
          "base_uri": "https://localhost:8080/",
          "height": 299
        },
        "outputId": "d6e2b26f-9a31-4a30-bdb1-cfd27f574521"
      },
      "source": [
        "N = num_epochs\n",
        "plt.style.use(\"ggplot\")\n",
        "plt.figure()\n",
        "plt.plot(np.arange(0, N), model.history.history[\"loss\"], label=\"train_loss\")\n",
        "plt.title(\"Training Loss\")\n",
        "plt.xlabel(\"Epoch #\")\n",
        "plt.ylabel(\"Loss\")\n",
        "plt.legend(loc=\"lower left\")\n",
        "plt.savefig(\"plot.png\")"
      ],
      "execution_count": 81,
      "outputs": [
        {
          "output_type": "display_data",
          "data": {
            "image/png": "[encoded data removed]",
            "text/plain": [
              "<Figure size 432x288 with 1 Axes>"
            ]
          },
          "metadata": {
            "tags": []
          }
        }
      ]
    },
    {
      "cell_type": "markdown",
      "metadata": {
        "id": "Pve_PH4MGAks"
      },
      "source": [
        "# Making predctions"
      ]
    },
    {
      "cell_type": "code",
      "metadata": {
        "_uuid": "0ab4b119-b87b-4f43-a256-27ab3b38bdbc",
        "_cell_guid": "6414d143-0a99-4601-9926-f88510a56abe",
        "trusted": true,
        "id": "7K3TA0HnyQwH"
      },
      "source": [
        "# Make the predcitons\n",
        "test_data = test_generator[0][0]\n",
        "y_pred_scaled = model.predict(test_data)\n",
        "y_pred = Yscaler.inverse_transform(y_pred_scaled)"
      ],
      "execution_count": 82,
      "outputs": []
    },
    {
      "cell_type": "code",
      "metadata": {
        "_uuid": "5e543adc-1d76-4dbd-87e7-3df73827d623",
        "_cell_guid": "cb399d04-7616-4b01-a112-ce127e9eea3d",
        "trusted": true,
        "id": "acoY-g3tyQwH",
        "colab": {
          "base_uri": "https://localhost:8080/"
        },
        "outputId": "58b72cd2-1131-48f6-e7c8-d7622e97d3b6"
      },
      "source": [
        "y_pred.shape"
      ],
      "execution_count": 83,
      "outputs": [
        {
          "output_type": "execute_result",
          "data": {
            "text/plain": [
              "(99, 2)"
            ]
          },
          "metadata": {
            "tags": []
          },
          "execution_count": 83
        }
      ]
    },
    {
      "cell_type": "code",
      "metadata": {
        "_uuid": "03d4414f-596b-4af1-ac3c-b40730a92c18",
        "_cell_guid": "dbcaa385-5ef0-449a-b54e-be0c0f1a2130",
        "trusted": true,
        "id": "vAO6hKEFyQwH",
        "colab": {
          "base_uri": "https://localhost:8080/"
        },
        "outputId": "fde809a7-ca1d-434e-e79a-84d13cbf61c8"
      },
      "source": [
        "y_pred[:,1]"
      ],
      "execution_count": 84,
      "outputs": [
        {
          "output_type": "execute_result",
          "data": {
            "text/plain": [
              "array([3.1811450e+08, 2.6202877e+08, 2.6189779e+08, 2.6550494e+08,\n",
              "       2.5921637e+08, 2.6576168e+08, 2.6285714e+08, 2.5987605e+08,\n",
              "       2.6073755e+08, 2.6765573e+08, 2.6712485e+08, 2.7031904e+08,\n",
              "       2.8181258e+08, 2.8564838e+08, 3.1372883e+08, 3.2589667e+08,\n",
              "       2.5779083e+08, 3.6985907e+08, 2.5674594e+08, 2.4492082e+08,\n",
              "       2.3884091e+08, 2.4576318e+08, 2.6740870e+08, 2.6016410e+08,\n",
              "       2.6162832e+08, 2.5521362e+08, 2.5238093e+08, 2.4820979e+08,\n",
              "       2.5474299e+08, 2.7399312e+08, 2.5131786e+08, 2.4371995e+08,\n",
              "       2.4219099e+08, 2.5170736e+08, 2.6197670e+08, 2.5733870e+08,\n",
              "       2.5937326e+08, 2.5777744e+08, 2.5606747e+08, 2.5641565e+08,\n",
              "       2.6461434e+08, 2.6869651e+08, 2.6934342e+08, 2.7190122e+08,\n",
              "       2.7355238e+08, 2.6920502e+08, 2.6708173e+08, 3.1088454e+08,\n",
              "       2.6468194e+08, 2.5970282e+08, 2.5117216e+08, 2.4451334e+08,\n",
              "       2.3883973e+08, 2.3341035e+08, 2.3261099e+08, 2.3992584e+08,\n",
              "       2.4277394e+08, 2.3969797e+08, 2.4036629e+08, 2.4785541e+08,\n",
              "       2.4137616e+08, 2.6101394e+08, 2.6798070e+08, 2.6992096e+08,\n",
              "       2.4646483e+08, 2.4537253e+08, 2.3758715e+08, 2.3833686e+08,\n",
              "       2.4623723e+08, 2.4843611e+08, 2.5337523e+08, 2.4934878e+08,\n",
              "       2.4969504e+08, 2.5017120e+08, 2.5070038e+08, 2.5086949e+08,\n",
              "       2.5059486e+08, 2.5127581e+08, 2.5522634e+08, 2.5370763e+08,\n",
              "       2.5436989e+08, 2.5425310e+08, 2.5302587e+08, 2.5281832e+08,\n",
              "       2.4811955e+08, 2.4022554e+08, 2.3743490e+08, 2.4045027e+08,\n",
              "       2.5187696e+08, 2.5149490e+08, 2.6715243e+08, 2.6797910e+08,\n",
              "       2.4290493e+08, 2.5395797e+08, 2.5343829e+08, 2.5287880e+08,\n",
              "       2.5542141e+08, 2.5299962e+08, 2.5108989e+08], dtype=float32)"
            ]
          },
          "metadata": {
            "tags": []
          },
          "execution_count": 84
        }
      ]
    },
    {
      "cell_type": "code",
      "metadata": {
        "_uuid": "87f93889-2332-419a-8f3f-5a64b4bfb75b",
        "_cell_guid": "4eacf946-85bc-4387-b31e-157fd00ae1f4",
        "trusted": true,
        "id": "2IRyeBe0yQwH",
        "colab": {
          "base_uri": "https://localhost:8080/"
        },
        "outputId": "812867ca-532f-4fcb-e957-00e41fb5f841"
      },
      "source": [
        "print(test['exits'].values[n_input:].shape)\n",
        "print(test['entries'].values[n_input:].shape)\n",
        "print(y_pred[:,0].ravel().shape)\n",
        "print(y_pred[:,1].ravel().shape)"
      ],
      "execution_count": 85,
      "outputs": [
        {
          "output_type": "stream",
          "text": [
            "(99,)\n",
            "(99,)\n",
            "(99,)\n",
            "(99,)\n"
          ],
          "name": "stdout"
        }
      ]
    },
    {
      "cell_type": "markdown",
      "metadata": {
        "id": "3XdOlGcXGhbt"
      },
      "source": [
        "# Plotting the final results"
      ]
    },
    {
      "cell_type": "code",
      "metadata": {
        "_uuid": "61a021a3-7e58-4feb-b581-ba58a739e2e0",
        "_cell_guid": "e221d8cb-d4c2-4416-b6d4-87b06e7eba96",
        "trusted": true,
        "id": "ScDdSUwryQwI",
        "colab": {
          "base_uri": "https://localhost:8080/",
          "height": 419
        },
        "outputId": "65ef893d-4cd5-4e5e-c31b-8ad5d0e2e00b"
      },
      "source": [
        "results = pd.DataFrame({'y_true -y1 ':test['entries'].values[n_input:],'y_true - y2 ':test['exits'].values[n_input:], 'y_pred - y1':y_pred[:,0].ravel(), 'y_pred - y2':y_pred[:,1].ravel()})\n",
        "results"
      ],
      "execution_count": 86,
      "outputs": [
        {
          "output_type": "execute_result",
          "data": {
            "text/html": [
              "<div>\n",
              "<style scoped>\n",
              "    .dataframe tbody tr th:only-of-type {\n",
              "        vertical-align: middle;\n",
              "    }\n",
              "\n",
              "    .dataframe tbody tr th {\n",
              "        vertical-align: top;\n",
              "    }\n",
              "\n",
              "    .dataframe thead th {\n",
              "        text-align: right;\n",
              "    }\n",
              "</style>\n",
              "<table border=\"1\" class=\"dataframe\">\n",
              "  <thead>\n",
              "    <tr style=\"text-align: right;\">\n",
              "      <th></th>\n",
              "      <th>y_true -y1</th>\n",
              "      <th>y_true - y2</th>\n",
              "      <th>y_pred - y1</th>\n",
              "      <th>y_pred - y2</th>\n",
              "    </tr>\n",
              "  </thead>\n",
              "  <tbody>\n",
              "    <tr>\n",
              "      <th>0</th>\n",
              "      <td>283889491.0</td>\n",
              "      <td>261939143.0</td>\n",
              "      <td>346687424.0</td>\n",
              "      <td>318114496.0</td>\n",
              "    </tr>\n",
              "    <tr>\n",
              "      <th>1</th>\n",
              "      <td>277988628.0</td>\n",
              "      <td>243235240.0</td>\n",
              "      <td>292836768.0</td>\n",
              "      <td>262028768.0</td>\n",
              "    </tr>\n",
              "    <tr>\n",
              "      <th>2</th>\n",
              "      <td>300613056.0</td>\n",
              "      <td>266922921.0</td>\n",
              "      <td>292278784.0</td>\n",
              "      <td>261897792.0</td>\n",
              "    </tr>\n",
              "    <tr>\n",
              "      <th>3</th>\n",
              "      <td>279106946.0</td>\n",
              "      <td>249496505.0</td>\n",
              "      <td>295840352.0</td>\n",
              "      <td>265504944.0</td>\n",
              "    </tr>\n",
              "    <tr>\n",
              "      <th>4</th>\n",
              "      <td>308886201.0</td>\n",
              "      <td>280292015.0</td>\n",
              "      <td>289753952.0</td>\n",
              "      <td>259216368.0</td>\n",
              "    </tr>\n",
              "    <tr>\n",
              "      <th>...</th>\n",
              "      <td>...</td>\n",
              "      <td>...</td>\n",
              "      <td>...</td>\n",
              "      <td>...</td>\n",
              "    </tr>\n",
              "    <tr>\n",
              "      <th>94</th>\n",
              "      <td>274513935.0</td>\n",
              "      <td>246108462.0</td>\n",
              "      <td>284456704.0</td>\n",
              "      <td>253438288.0</td>\n",
              "    </tr>\n",
              "    <tr>\n",
              "      <th>95</th>\n",
              "      <td>274606567.0</td>\n",
              "      <td>246224684.0</td>\n",
              "      <td>283662688.0</td>\n",
              "      <td>252878800.0</td>\n",
              "    </tr>\n",
              "    <tr>\n",
              "      <th>96</th>\n",
              "      <td>274714891.0</td>\n",
              "      <td>246352456.0</td>\n",
              "      <td>286044192.0</td>\n",
              "      <td>255421408.0</td>\n",
              "    </tr>\n",
              "    <tr>\n",
              "      <th>97</th>\n",
              "      <td>274832439.0</td>\n",
              "      <td>246487373.0</td>\n",
              "      <td>283933024.0</td>\n",
              "      <td>252999616.0</td>\n",
              "    </tr>\n",
              "    <tr>\n",
              "      <th>98</th>\n",
              "      <td>274953094.0</td>\n",
              "      <td>246623192.0</td>\n",
              "      <td>282302624.0</td>\n",
              "      <td>251089888.0</td>\n",
              "    </tr>\n",
              "  </tbody>\n",
              "</table>\n",
              "<p>99 rows × 4 columns</p>\n",
              "</div>"
            ],
            "text/plain": [
              "    y_true -y1   y_true - y2   y_pred - y1  y_pred - y2\n",
              "0   283889491.0   261939143.0  346687424.0  318114496.0\n",
              "1   277988628.0   243235240.0  292836768.0  262028768.0\n",
              "2   300613056.0   266922921.0  292278784.0  261897792.0\n",
              "3   279106946.0   249496505.0  295840352.0  265504944.0\n",
              "4   308886201.0   280292015.0  289753952.0  259216368.0\n",
              "..          ...           ...          ...          ...\n",
              "94  274513935.0   246108462.0  284456704.0  253438288.0\n",
              "95  274606567.0   246224684.0  283662688.0  252878800.0\n",
              "96  274714891.0   246352456.0  286044192.0  255421408.0\n",
              "97  274832439.0   246487373.0  283933024.0  252999616.0\n",
              "98  274953094.0   246623192.0  282302624.0  251089888.0\n",
              "\n",
              "[99 rows x 4 columns]"
            ]
          },
          "metadata": {
            "tags": []
          },
          "execution_count": 86
        }
      ]
    },
    {
      "cell_type": "code",
      "metadata": {
        "_uuid": "9220c4f3-b1eb-4873-9b59-259ab31b51eb",
        "_cell_guid": "12910ede-f3bc-4318-86ca-262139479839",
        "trusted": true,
        "id": "beG9DymRyQwJ",
        "colab": {
          "base_uri": "https://localhost:8080/",
          "height": 276
        },
        "outputId": "07d30449-3382-4ff9-8643-6bd8d8b09ce1"
      },
      "source": [
        "results.plot();"
      ],
      "execution_count": 87,
      "outputs": [
        {
          "output_type": "display_data",
          "data": {
            "image/png": "[encoded data removed]",
            "text/plain": [
              "<Figure size 432x288 with 1 Axes>"
            ]
          },
          "metadata": {
            "tags": []
          }
        }
      ]
    }
  ]
}